{
 "cells": [
  {
   "cell_type": "markdown",
   "metadata": {},
   "source": [
    "# Extração de Tópicos LDA (Latent Dirichlet Allocation)"
   ]
  },
  {
   "cell_type": "code",
   "execution_count": null,
   "metadata": {},
   "outputs": [],
   "source": [
    "%pip install pandas numpy nltk gensim pyLDAvis matplotlib"
   ]
  },
  {
   "cell_type": "code",
   "execution_count": 9,
   "metadata": {},
   "outputs": [],
   "source": [
    "# Importando bibliotecas\n",
    "import pandas as pd\n",
    "import numpy as np\n",
    "import nltk\n",
    "import gensim\n",
    "import gensim.corpora as corpora\n",
    "import pyLDAvis.gensim_models as gensimvis\n",
    "import pyLDAvis\n",
    "import matplotlib.pyplot as plt\n",
    "from nltk.corpus import stopwords\n",
    "from nltk.tokenize import word_tokenize\n",
    "from gensim.models import LdaModel\n",
    "from gensim.corpora.dictionary import Dictionary"
   ]
  },
  {
   "cell_type": "code",
   "execution_count": 4,
   "metadata": {},
   "outputs": [],
   "source": [
    "# Carregar textos\n",
    "documentos = [\n",
    "    \"A inteligência artificial está transformando a indústria da saúde.\",\n",
    "    \"Os algoritmos de aprendizado profundo são amplamente utilizados na IA.\",\n",
    "    \"O aquecimento global é um problema crítico para o futuro da humanidade.\",\n",
    "    \"Novas políticas ambientais estão sendo implementadas para reduzir a poluição.\",\n",
    "    \"A tecnologia blockchain está revolucionando a segurança digital.\"\n",
    "]"
   ]
  },
  {
   "cell_type": "code",
   "execution_count": 6,
   "metadata": {},
   "outputs": [
    {
     "name": "stderr",
     "output_type": "stream",
     "text": [
      "[nltk_data] Downloading package stopwords to\n",
      "[nltk_data]     C:\\Users\\josaf\\AppData\\Roaming\\nltk_data...\n",
      "[nltk_data]   Package stopwords is already up-to-date!\n",
      "[nltk_data] Downloading package punkt_tab to\n",
      "[nltk_data]     C:\\Users\\josaf\\AppData\\Roaming\\nltk_data...\n",
      "[nltk_data]   Unzipping tokenizers\\punkt_tab.zip.\n"
     ]
    }
   ],
   "source": [
    "# Pré-processamento\n",
    "nltk.download('stopwords')\n",
    "nltk.download('punkt_tab')\n",
    "\n",
    "stop_words = set(stopwords.words('portuguese'))\n",
    "\n",
    "def preprocess_text(text):\n",
    "  tokens = word_tokenize(text.lower())\n",
    "  tokens = [word for word in tokens if word.isalnum() and word not in stop_words]\n",
    "  return tokens\n",
    "\n",
    "textos_processados = [preprocess_text(doc) for doc in documentos]"
   ]
  },
  {
   "cell_type": "code",
   "execution_count": 7,
   "metadata": {},
   "outputs": [],
   "source": [
    "# Criar o dicionario e o corpus\n",
    "dicionario = Dictionary(textos_processados)\n",
    "corpus = [dicionario.doc2bow(text) for text in textos_processados]"
   ]
  },
  {
   "cell_type": "code",
   "execution_count": 8,
   "metadata": {},
   "outputs": [],
   "source": [
    "# Treinar o modelo LDA\n",
    "lda_model = LdaModel(corpus=corpus, id2word=dicionario, num_topics=3, random_state=42, passes=10)"
   ]
  },
  {
   "cell_type": "code",
   "execution_count": 10,
   "metadata": {},
   "outputs": [
    {
     "data": {
      "text/html": [
       "\n",
       "<link rel=\"stylesheet\" type=\"text/css\" href=\"https://cdn.jsdelivr.net/gh/bmabey/pyLDAvis@3.4.0/pyLDAvis/js/ldavis.v1.0.0.css\">\n",
       "\n",
       "\n",
       "<div id=\"ldavis_el1544020746852120327583210259\" style=\"background-color:white;\"></div>\n",
       "<script type=\"text/javascript\">\n",
       "\n",
       "var ldavis_el1544020746852120327583210259_data = {\"mdsDat\": {\"x\": [0.08815516908639762, -0.08080205626072422, -0.007353112825673388], \"y\": [-0.035326693283623554, -0.045936559783696894, 0.08126325306732046], \"topics\": [1, 2, 3], \"cluster\": [1, 1, 1], \"Freq\": [40.34362538608997, 33.620576091514685, 26.035798522395343]}, \"tinfo\": {\"Term\": [\"ambientais\", \"polui\\u00e7\\u00e3o\", \"reduzir\", \"novas\", \"implementadas\", \"sendo\", \"pol\\u00edticas\", \"transformando\", \"blockchain\", \"intelig\\u00eancia\", \"seguran\\u00e7a\", \"tecnologia\", \"sa\\u00fade\", \"digital\", \"artificial\", \"ind\\u00fastria\", \"revolucionando\", \"aquecimento\", \"global\", \"problema\", \"humanidade\", \"futuro\", \"cr\\u00edtico\", \"aprendizado\", \"profundo\", \"utilizados\", \"amplamente\", \"algoritmos\", \"ia\", \"global\", \"aquecimento\", \"problema\", \"humanidade\", \"futuro\", \"cr\\u00edtico\", \"aprendizado\", \"profundo\", \"utilizados\", \"algoritmos\", \"amplamente\", \"ia\", \"pol\\u00edticas\", \"sendo\", \"novas\", \"reduzir\", \"implementadas\", \"ambientais\", \"polui\\u00e7\\u00e3o\", \"revolucionando\", \"ind\\u00fastria\", \"sa\\u00fade\", \"artificial\", \"digital\", \"seguran\\u00e7a\", \"intelig\\u00eancia\", \"tecnologia\", \"blockchain\", \"transformando\", \"transformando\", \"blockchain\", \"intelig\\u00eancia\", \"seguran\\u00e7a\", \"tecnologia\", \"sa\\u00fade\", \"digital\", \"artificial\", \"ind\\u00fastria\", \"revolucionando\", \"polui\\u00e7\\u00e3o\", \"implementadas\", \"ambientais\", \"pol\\u00edticas\", \"sendo\", \"novas\", \"reduzir\", \"ia\", \"aprendizado\", \"algoritmos\", \"amplamente\", \"utilizados\", \"profundo\", \"cr\\u00edtico\", \"futuro\", \"humanidade\", \"global\", \"problema\", \"aquecimento\", \"ambientais\", \"polui\\u00e7\\u00e3o\", \"reduzir\", \"novas\", \"implementadas\", \"sendo\", \"pol\\u00edticas\", \"revolucionando\", \"artificial\", \"ind\\u00fastria\", \"tecnologia\", \"digital\", \"blockchain\", \"seguran\\u00e7a\", \"intelig\\u00eancia\", \"sa\\u00fade\", \"transformando\", \"ia\", \"amplamente\", \"algoritmos\", \"utilizados\", \"profundo\", \"aprendizado\", \"cr\\u00edtico\", \"problema\", \"futuro\", \"humanidade\", \"aquecimento\", \"global\"], \"Freq\": [0.0, 0.0, 0.0, 0.0, 0.0, 0.0, 0.0, 0.0, 0.0, 0.0, 0.0, 0.0, 0.0, 0.0, 0.0, 0.0, 0.0, 1.0, 1.0, 1.0, 1.0, 1.0, 1.0, 1.0, 1.0, 1.0, 1.0, 1.0, 1.0, 0.7204490474000222, 0.72044887306163, 0.7204320929913786, 0.7204302188536622, 0.7204202379807074, 0.7203764790442595, 0.7182530810115866, 0.7182029151392245, 0.7181513109751266, 0.7179607591124273, 0.7179570980061907, 0.7176906653582764, 0.18047329486799948, 0.18046942673492206, 0.18045930421202364, 0.18045846520851105, 0.18045556683274036, 0.18044817924336992, 0.18044465978707694, 0.18058720321501792, 0.1805809052405989, 0.18057262416696832, 0.180572384451679, 0.18056725236525795, 0.18056119410612823, 0.18055898218777688, 0.18055805601506822, 0.18055504867780237, 0.180554765377915, 0.6605161744538441, 0.66050622237435, 0.6605031713718773, 0.6605009920843968, 0.6604961250090238, 0.6604948174365355, 0.6604908947190706, 0.6604814511399886, 0.6604747679917151, 0.6604555902618869, 0.16548441275861048, 0.1654826511678971, 0.16547604066253965, 0.16547516894754746, 0.165473025981525, 0.16547139151591464, 0.16547133703372763, 0.16559844397602633, 0.16558847373580315, 0.1655771959230917, 0.16556404755529283, 0.16556361169779674, 0.16555482190495882, 0.165569404970349, 0.16554610475503692, 0.16554532384368975, 0.16553658853303885, 0.16553419131681033, 0.16553435476337136, 0.602416400073319, 0.6024117871857151, 0.6024120684593495, 0.6024113371479001, 0.6024041927975867, 0.6024013800612429, 0.6023962046263702, 0.15102669959030968, 0.1510155048996612, 0.15101446418721398, 0.15101408446780756, 0.15101120141305513, 0.15100733390058235, 0.15100695418117593, 0.15100688386276734, 0.15100310073238488, 0.15099845971741754, 0.15320399660302947, 0.15301270240428505, 0.15299759801011864, 0.15285068879087998, 0.1528155999049906, 0.15274300317995615, 0.15098539455710042, 0.15097100741070169, 0.15097003701666306, 0.15096245669221642, 0.1509568734105739, 0.15095463728518055], \"Total\": [0.0, 0.0, 0.0, 0.0, 0.0, 0.0, 0.0, 0.0, 0.0, 0.0, 0.0, 0.0, 0.0, 0.0, 0.0, 0.0, 0.0, 1.0, 1.0, 1.0, 1.0, 1.0, 1.0, 1.0, 1.0, 1.0, 1.0, 1.0, 1.0, 1.0369402732182418, 1.0369401012355752, 1.0369372917188906, 1.0369379993895684, 1.0369363797524074, 1.0369312785717089, 1.0365845579273458, 1.036573336949174, 1.0365656114638033, 1.0365355530456377, 1.0365338479657686, 1.0364931059373321, 0.9483446684419172, 0.94834383277769, 0.9483420328758383, 0.9483418707015882, 0.9483424107982241, 0.9483406199792286, 0.9483408597314025, 0.9920694930672146, 0.992070137419528, 0.9920705423358886, 0.9920693404913288, 0.9920693484973837, 0.992069140371701, 0.9920690374224215, 0.9920682654918995, 0.9920686049527347, 0.9920693995491767, 0.9920693995491767, 0.9920686049527347, 0.9920690374224215, 0.992069140371701, 0.9920682654918995, 0.9920705423358886, 0.9920693484973837, 0.9920693404913288, 0.992070137419528, 0.9920694930672146, 0.9483408597314025, 0.9483424107982241, 0.9483406199792286, 0.9483446684419172, 0.94834383277769, 0.9483420328758383, 0.9483418707015882, 1.0364931059373321, 1.0365845579273458, 1.0365355530456377, 1.0365338479657686, 1.0365656114638033, 1.036573336949174, 1.0369312785717089, 1.0369363797524074, 1.0369379993895684, 1.0369402732182418, 1.0369372917188906, 1.0369401012355752, 0.9483406199792286, 0.9483408597314025, 0.9483418707015882, 0.9483420328758383, 0.9483424107982241, 0.94834383277769, 0.9483446684419172, 0.9920694930672146, 0.9920693404913288, 0.992070137419528, 0.9920682654918995, 0.9920693484973837, 0.9920686049527347, 0.992069140371701, 0.9920690374224215, 0.9920705423358886, 0.9920693995491767, 1.0364931059373321, 1.0365338479657686, 1.0365355530456377, 1.0365656114638033, 1.036573336949174, 1.0365845579273458, 1.0369312785717089, 1.0369372917188906, 1.0369363797524074, 1.0369379993895684, 1.0369401012355752, 1.0369402732182418], \"Category\": [\"Default\", \"Default\", \"Default\", \"Default\", \"Default\", \"Default\", \"Default\", \"Default\", \"Default\", \"Default\", \"Default\", \"Default\", \"Default\", \"Default\", \"Default\", \"Default\", \"Default\", \"Default\", \"Default\", \"Default\", \"Default\", \"Default\", \"Default\", \"Default\", \"Default\", \"Default\", \"Default\", \"Default\", \"Default\", \"Topic1\", \"Topic1\", \"Topic1\", \"Topic1\", \"Topic1\", \"Topic1\", \"Topic1\", \"Topic1\", \"Topic1\", \"Topic1\", \"Topic1\", \"Topic1\", \"Topic1\", \"Topic1\", \"Topic1\", \"Topic1\", \"Topic1\", \"Topic1\", \"Topic1\", \"Topic1\", \"Topic1\", \"Topic1\", \"Topic1\", \"Topic1\", \"Topic1\", \"Topic1\", \"Topic1\", \"Topic1\", \"Topic1\", \"Topic2\", \"Topic2\", \"Topic2\", \"Topic2\", \"Topic2\", \"Topic2\", \"Topic2\", \"Topic2\", \"Topic2\", \"Topic2\", \"Topic2\", \"Topic2\", \"Topic2\", \"Topic2\", \"Topic2\", \"Topic2\", \"Topic2\", \"Topic2\", \"Topic2\", \"Topic2\", \"Topic2\", \"Topic2\", \"Topic2\", \"Topic2\", \"Topic2\", \"Topic2\", \"Topic2\", \"Topic2\", \"Topic2\", \"Topic3\", \"Topic3\", \"Topic3\", \"Topic3\", \"Topic3\", \"Topic3\", \"Topic3\", \"Topic3\", \"Topic3\", \"Topic3\", \"Topic3\", \"Topic3\", \"Topic3\", \"Topic3\", \"Topic3\", \"Topic3\", \"Topic3\", \"Topic3\", \"Topic3\", \"Topic3\", \"Topic3\", \"Topic3\", \"Topic3\", \"Topic3\", \"Topic3\", \"Topic3\", \"Topic3\", \"Topic3\", \"Topic3\"], \"logprob\": [29.0, 28.0, 27.0, 26.0, 25.0, 24.0, 23.0, 22.0, 21.0, 20.0, 19.0, 18.0, 17.0, 16.0, 15.0, 14.0, 13.0, 12.0, 11.0, 10.0, 9.0, 8.0, 7.0, 6.0, 5.0, 4.0, 3.0, 2.0, 1.0, -2.7874, -2.7874, -2.7875, -2.7875, -2.7875, -2.7875, -2.7905, -2.7906, -2.7906, -2.7909, -2.7909, -2.7913, -4.1717, -4.1718, -4.1718, -4.1718, -4.1718, -4.1719, -4.1719, -4.1711, -4.1711, -4.1712, -4.1712, -4.1712, -4.1712, -4.1713, -4.1713, -4.1713, -4.1713, -2.692, -2.692, -2.692, -2.692, -2.692, -2.692, -2.692, -2.6921, -2.6921, -2.6921, -4.0761, -4.0762, -4.0762, -4.0762, -4.0762, -4.0762, -4.0762, -4.0755, -4.0755, -4.0756, -4.0757, -4.0757, -4.0757, -4.0756, -4.0758, -4.0758, -4.0758, -4.0758, -4.0758, -2.5284, -2.5284, -2.5284, -2.5284, -2.5284, -2.5284, -2.5284, -3.9119, -3.912, -3.912, -3.912, -3.912, -3.912, -3.912, -3.912, -3.9121, -3.9121, -3.8976, -3.8988, -3.8989, -3.8999, -3.9001, -3.9006, -3.9122, -3.9123, -3.9123, -3.9123, -3.9124, -3.9124], \"loglift\": [29.0, 28.0, 27.0, 26.0, 25.0, 24.0, 23.0, 22.0, 21.0, 20.0, 19.0, 18.0, 17.0, 16.0, 15.0, 14.0, 13.0, 12.0, 11.0, 10.0, 9.0, 8.0, 7.0, 6.0, 5.0, 4.0, 3.0, 2.0, 1.0, 0.5436, 0.5436, 0.5436, 0.5436, 0.5435, 0.5435, 0.5409, 0.5408, 0.5407, 0.5405, 0.5405, 0.5402, -0.7514, -0.7514, -0.7515, -0.7515, -0.7515, -0.7515, -0.7516, -0.7958, -0.7959, -0.7959, -0.7959, -0.796, -0.796, -0.796, -0.796, -0.796, -0.796, 0.6833, 0.6832, 0.6832, 0.6832, 0.6832, 0.6832, 0.6832, 0.6832, 0.6832, 0.6832, -0.6558, -0.6558, -0.6559, -0.6559, -0.6559, -0.6559, -0.6559, -0.744, -0.7441, -0.7442, -0.7442, -0.7443, -0.7443, -0.7446, -0.7447, -0.7448, -0.7448, -0.7448, -0.7448, 0.8919, 0.8919, 0.8919, 0.8919, 0.8919, 0.8919, 0.8919, -0.5366, -0.5367, -0.5367, -0.5367, -0.5367, -0.5368, -0.5368, -0.5368, -0.5368, -0.5368, -0.5661, -0.5674, -0.5675, -0.5685, -0.5687, -0.5692, -0.5811, -0.5812, -0.5812, -0.5813, -0.5813, -0.5814]}, \"token.table\": {\"Topic\": [1, 3, 1, 1, 1, 2, 2, 1, 2, 1, 1, 1, 1, 3, 2, 2, 3, 3, 3, 1, 1, 3, 2, 2, 2, 3, 2, 2, 1], \"Freq\": [0.9647522432411645, 1.0544734443853125, 0.9647538302415618, 0.9647066342561607, 0.9643758581700534, 1.00799405765805, 1.0079948050040786, 0.9643840635007377, 1.0079940495234816, 0.9643793192392124, 0.9643756982226236, 0.9643778129345116, 0.9647917523731812, 1.0544714531519217, 1.0079932479381934, 1.0079943655919195, 1.0544718733677862, 1.0544731778015226, 1.0544689428611962, 0.9643784710860759, 0.9647170772722978, 1.0544720536911387, 1.0079939026330367, 1.007992836522936, 1.007994260990043, 1.05446987204104, 1.0079951499145754, 1.0079939976522077, 0.9647242672731863], \"Term\": [\"algoritmos\", \"ambientais\", \"amplamente\", \"aprendizado\", \"aquecimento\", \"artificial\", \"blockchain\", \"cr\\u00edtico\", \"digital\", \"futuro\", \"global\", \"humanidade\", \"ia\", \"implementadas\", \"ind\\u00fastria\", \"intelig\\u00eancia\", \"novas\", \"polui\\u00e7\\u00e3o\", \"pol\\u00edticas\", \"problema\", \"profundo\", \"reduzir\", \"revolucionando\", \"sa\\u00fade\", \"seguran\\u00e7a\", \"sendo\", \"tecnologia\", \"transformando\", \"utilizados\"]}, \"R\": 29, \"lambda.step\": 0.01, \"plot.opts\": {\"xlab\": \"PC1\", \"ylab\": \"PC2\"}, \"topic.order\": [3, 1, 2]};\n",
       "\n",
       "function LDAvis_load_lib(url, callback){\n",
       "  var s = document.createElement('script');\n",
       "  s.src = url;\n",
       "  s.async = true;\n",
       "  s.onreadystatechange = s.onload = callback;\n",
       "  s.onerror = function(){console.warn(\"failed to load library \" + url);};\n",
       "  document.getElementsByTagName(\"head\")[0].appendChild(s);\n",
       "}\n",
       "\n",
       "if(typeof(LDAvis) !== \"undefined\"){\n",
       "   // already loaded: just create the visualization\n",
       "   !function(LDAvis){\n",
       "       new LDAvis(\"#\" + \"ldavis_el1544020746852120327583210259\", ldavis_el1544020746852120327583210259_data);\n",
       "   }(LDAvis);\n",
       "}else if(typeof define === \"function\" && define.amd){\n",
       "   // require.js is available: use it to load d3/LDAvis\n",
       "   require.config({paths: {d3: \"https://d3js.org/d3.v5\"}});\n",
       "   require([\"d3\"], function(d3){\n",
       "      window.d3 = d3;\n",
       "      LDAvis_load_lib(\"https://cdn.jsdelivr.net/gh/bmabey/pyLDAvis@3.4.0/pyLDAvis/js/ldavis.v3.0.0.js\", function(){\n",
       "        new LDAvis(\"#\" + \"ldavis_el1544020746852120327583210259\", ldavis_el1544020746852120327583210259_data);\n",
       "      });\n",
       "    });\n",
       "}else{\n",
       "    // require.js not available: dynamically load d3 & LDAvis\n",
       "    LDAvis_load_lib(\"https://d3js.org/d3.v5.js\", function(){\n",
       "         LDAvis_load_lib(\"https://cdn.jsdelivr.net/gh/bmabey/pyLDAvis@3.4.0/pyLDAvis/js/ldavis.v3.0.0.js\", function(){\n",
       "                 new LDAvis(\"#\" + \"ldavis_el1544020746852120327583210259\", ldavis_el1544020746852120327583210259_data);\n",
       "            })\n",
       "         });\n",
       "}\n",
       "</script>"
      ],
      "text/plain": [
       "PreparedData(topic_coordinates=              x         y  topics  cluster       Freq\n",
       "topic                                                \n",
       "2      0.088155 -0.035327       1        1  40.343625\n",
       "0     -0.080802 -0.045937       2        1  33.620576\n",
       "1     -0.007353  0.081263       3        1  26.035799, topic_info=             Term      Freq     Total Category  logprob  loglift\n",
       "17     ambientais  0.000000  0.000000  Default  29.0000  29.0000\n",
       "20       poluição  0.000000  0.000000  Default  28.0000  28.0000\n",
       "22        reduzir  0.000000  0.000000  Default  27.0000  27.0000\n",
       "19          novas  0.000000  0.000000  Default  26.0000  26.0000\n",
       "18  implementadas  0.000000  0.000000  Default  25.0000  25.0000\n",
       "..            ...       ...       ...      ...      ...      ...\n",
       "16       problema  0.150971  1.036937   Topic3  -3.9123  -0.5812\n",
       "13         futuro  0.150970  1.036936   Topic3  -3.9123  -0.5812\n",
       "15     humanidade  0.150962  1.036938   Topic3  -3.9123  -0.5813\n",
       "11    aquecimento  0.150957  1.036940   Topic3  -3.9124  -0.5813\n",
       "14         global  0.150955  1.036940   Topic3  -3.9124  -0.5814\n",
       "\n",
       "[116 rows x 6 columns], token_table=      Topic      Freq            Term\n",
       "term                                 \n",
       "5         1  0.964752      algoritmos\n",
       "17        3  1.054473      ambientais\n",
       "6         1  0.964754      amplamente\n",
       "7         1  0.964707     aprendizado\n",
       "11        1  0.964376     aquecimento\n",
       "0         2  1.007994      artificial\n",
       "24        2  1.007995      blockchain\n",
       "12        1  0.964384         crítico\n",
       "25        2  1.007994         digital\n",
       "13        1  0.964379          futuro\n",
       "14        1  0.964376          global\n",
       "15        1  0.964378      humanidade\n",
       "8         1  0.964792              ia\n",
       "18        3  1.054471   implementadas\n",
       "1         2  1.007993       indústria\n",
       "2         2  1.007994    inteligência\n",
       "19        3  1.054472           novas\n",
       "20        3  1.054473        poluição\n",
       "21        3  1.054469       políticas\n",
       "16        1  0.964378        problema\n",
       "9         1  0.964717        profundo\n",
       "22        3  1.054472         reduzir\n",
       "26        2  1.007994  revolucionando\n",
       "3         2  1.007993           saúde\n",
       "27        2  1.007994       segurança\n",
       "23        3  1.054470           sendo\n",
       "28        2  1.007995      tecnologia\n",
       "4         2  1.007994   transformando\n",
       "10        1  0.964724      utilizados, R=29, lambda_step=0.01, plot_opts={'xlab': 'PC1', 'ylab': 'PC2'}, topic_order=[3, 1, 2])"
      ]
     },
     "execution_count": 10,
     "metadata": {},
     "output_type": "execute_result"
    }
   ],
   "source": [
    "# Visualizar os Tópicos\n",
    "pyLDAvis.enable_notebook()\n",
    "vis = gensimvis.prepare(lda_model, corpus, dicionario)\n",
    "vis"
   ]
  },
  {
   "cell_type": "code",
   "execution_count": 13,
   "metadata": {},
   "outputs": [
    {
     "name": "stdout",
     "output_type": "stream",
     "text": [
      "Tópico 1: ['transformando', 'blockchain', 'inteligência', 'segurança', 'tecnologia', 'saúde', 'digital', 'artificial', 'indústria', 'revolucionando']\n",
      "Tópico 2: ['ambientais', 'reduzir', 'poluição', 'novas', 'implementadas', 'sendo', 'políticas', 'ia', 'amplamente', 'algoritmos']\n",
      "Tópico 3: ['global', 'aquecimento', 'problema', 'humanidade', 'futuro', 'crítico', 'aprendizado', 'profundo', 'utilizados', 'algoritmos']\n"
     ]
    }
   ],
   "source": [
    "# Interpretar os Tópicos\n",
    "for idx, topic in lda_model.show_topics(num_topics=3, formatted=False):\n",
    "  print(f\"Tópico {idx + 1}: {[word[0] for word in topic]}\")"
   ]
  }
 ],
 "metadata": {
  "kernelspec": {
   "display_name": "Python 3",
   "language": "python",
   "name": "python3"
  },
  "language_info": {
   "codemirror_mode": {
    "name": "ipython",
    "version": 3
   },
   "file_extension": ".py",
   "mimetype": "text/x-python",
   "name": "python",
   "nbconvert_exporter": "python",
   "pygments_lexer": "ipython3",
   "version": "3.10.0"
  }
 },
 "nbformat": 4,
 "nbformat_minor": 2
}
