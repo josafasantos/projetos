{
 "cells": [
  {
   "cell_type": "markdown",
   "metadata": {},
   "source": [
    "# Pipeline Kaggle - Titanic"
   ]
  },
  {
   "cell_type": "code",
   "execution_count": 10,
   "metadata": {},
   "outputs": [],
   "source": [
    "# Importando bibliotecas\n",
    "import pandas as pd\n",
    "import numpy as np\n",
    "from sklearn.model_selection import cross_val_score\n",
    "from sklearn.preprocessing import LabelEncoder\n",
    "from sklearn.ensemble import RandomForestClassifier\n",
    "from sklearn.impute import SimpleImputer"
   ]
  },
  {
   "cell_type": "code",
   "execution_count": 11,
   "metadata": {},
   "outputs": [],
   "source": [
    "# Carregar Dados\n",
    "train = pd.read_csv('../../datasets/train_titanic.csv')\n",
    "test = pd.read_csv('../../datasets/test_titanic.csv')"
   ]
  },
  {
   "cell_type": "code",
   "execution_count": 12,
   "metadata": {},
   "outputs": [],
   "source": [
    "# Feature Engennering\n",
    "for df  in [train, test]:\n",
    "  df['Sex'] = LabelEncoder().fit_transform(df['Sex'])\n",
    "  df['Embarked'] = df['Embarked'].fillna('S')\n",
    "  df['Embarked'] = LabelEncoder().fit_transform(df['Embarked'])\n",
    "  df['FamilySize'] = df['SibSp'] + df['Parch'] + 1"
   ]
  },
  {
   "cell_type": "code",
   "execution_count": 14,
   "metadata": {},
   "outputs": [],
   "source": [
    "# Imputar valores faltantes em Age e Fare\n",
    "imputer = SimpleImputer(strategy='median')\n",
    "train['Age'] = imputer.fit_transform(train[['Age']])\n",
    "test['Age'] = imputer.transform(test[['Age']])\n",
    "train['Fare'] = imputer.fit_transform(train[['Fare']])\n",
    "test['Fare'] = imputer.transform(test[['Fare']])"
   ]
  },
  {
   "cell_type": "code",
   "execution_count": 15,
   "metadata": {},
   "outputs": [],
   "source": [
    "# Selecionar Features\n",
    "features = ['Pclass', 'Sex', 'SibSp', 'Parch', 'Fare', 'Embarked', 'FamilySize']\n",
    "X = train[features]\n",
    "y = train['Survived']\n",
    "X_test = test[features]"
   ]
  },
  {
   "cell_type": "code",
   "execution_count": 17,
   "metadata": {},
   "outputs": [
    {
     "name": "stdout",
     "output_type": "stream",
     "text": [
      "Acurácia média (CV): 0.7891\n"
     ]
    }
   ],
   "source": [
    "# Treinar o modelo\n",
    "model = RandomForestClassifier(n_estimators=100, random_state=42)\n",
    "scores = cross_val_score(model, X, y,cv=5)\n",
    "print(f\"Acurácia média (CV): {scores.mean():.4f}\")"
   ]
  },
  {
   "cell_type": "code",
   "execution_count": 18,
   "metadata": {},
   "outputs": [],
   "source": [
    "# Gerar predições\n",
    "model.fit(X, y)\n",
    "predictions = model.predict(X_test)"
   ]
  },
  {
   "cell_type": "code",
   "execution_count": 19,
   "metadata": {},
   "outputs": [],
   "source": [
    "#Submissão\n",
    "submission = pd.DataFrame({\n",
    "  'PassengerId': test['PassengerId'],\n",
    "  'Survived':predictions\n",
    "})\n",
    "submission.to_csv('submissao_titanic.csv', index=False)"
   ]
  }
 ],
 "metadata": {
  "kernelspec": {
   "display_name": "Python 3",
   "language": "python",
   "name": "python3"
  },
  "language_info": {
   "codemirror_mode": {
    "name": "ipython",
    "version": 3
   },
   "file_extension": ".py",
   "mimetype": "text/x-python",
   "name": "python",
   "nbconvert_exporter": "python",
   "pygments_lexer": "ipython3",
   "version": "3.10.0"
  }
 },
 "nbformat": 4,
 "nbformat_minor": 2
}
