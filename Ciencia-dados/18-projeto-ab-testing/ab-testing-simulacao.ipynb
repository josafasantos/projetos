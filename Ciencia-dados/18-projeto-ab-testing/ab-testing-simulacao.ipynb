{
 "cells": [
  {
   "cell_type": "code",
   "execution_count": 1,
   "metadata": {},
   "outputs": [],
   "source": [
    "import numpy as np\n",
    "import pandas as pd\n",
    "\n",
    "np.random.seed(42)\n",
    "n = 1000\n",
    "\n",
    "# Simulação de conversões\n",
    "conversoes_A = np.random.binomial(1, 0.10, n)\n",
    "conversoes_B = np.random.binomial(1, 0.12, n)\n",
    "\n",
    "df = pd.DataFrame({\n",
    "    'grupo': ['A']*n + ['B']*n,\n",
    "    'conversao': np.concatenate([conversoes_A, conversoes_B])\n",
    "})\n",
    "\n",
    "df.to_csv('../../datasets/resultados_ab.csv', index=False)"
   ]
  }
 ],
 "metadata": {
  "kernelspec": {
   "display_name": "Python 3",
   "language": "python",
   "name": "python3"
  },
  "language_info": {
   "codemirror_mode": {
    "name": "ipython",
    "version": 3
   },
   "file_extension": ".py",
   "mimetype": "text/x-python",
   "name": "python",
   "nbconvert_exporter": "python",
   "pygments_lexer": "ipython3",
   "version": "3.10.0"
  }
 },
 "nbformat": 4,
 "nbformat_minor": 2
}
