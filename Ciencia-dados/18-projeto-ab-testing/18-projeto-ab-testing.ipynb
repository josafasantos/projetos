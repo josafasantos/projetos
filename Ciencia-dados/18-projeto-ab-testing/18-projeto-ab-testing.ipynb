{
 "cells": [
  {
   "cell_type": "markdown",
   "metadata": {},
   "source": [
    "# Análise de A/B Testing"
   ]
  },
  {
   "cell_type": "code",
   "execution_count": 28,
   "metadata": {},
   "outputs": [],
   "source": [
    "#%pip install statsmodels"
   ]
  },
  {
   "cell_type": "code",
   "execution_count": 29,
   "metadata": {},
   "outputs": [],
   "source": [
    "# Importar bibliotecas\n",
    "import statsmodels.api as sm\n",
    "import scipy.stats as stats\n",
    "import pandas as pd\n",
    "import numpy as np"
   ]
  },
  {
   "cell_type": "code",
   "execution_count": 30,
   "metadata": {},
   "outputs": [],
   "source": [
    "# Carregar dados\n",
    "df = pd.read_csv('../../datasets/resultados_ab.csv')"
   ]
  },
  {
   "cell_type": "code",
   "execution_count": 31,
   "metadata": {},
   "outputs": [],
   "source": [
    "# tabela de contingência\n",
    "contingencia = pd.crosstab(df['grupo'], df['conversao'])"
   ]
  },
  {
   "cell_type": "code",
   "execution_count": 32,
   "metadata": {},
   "outputs": [
    {
     "name": "stdout",
     "output_type": "stream",
     "text": [
      "chi2: 0.6384280950571948, P-valor: 0.4242805805131731\n"
     ]
    }
   ],
   "source": [
    "# Teste Qui-Quadrado\n",
    "chi2, p, dof, expected = stats.chi2_contingency(contingencia)\n",
    "print(f'chi2: {chi2}, P-valor: {p}')"
   ]
  },
  {
   "cell_type": "code",
   "execution_count": 33,
   "metadata": {},
   "outputs": [],
   "source": [
    "#Intervalo de confiança\n",
    "conversao_A = df[df['grupo']=='A']['conversao']\n",
    "conversao_B = df[df['grupo']=='B']['conversao']"
   ]
  },
  {
   "cell_type": "code",
   "execution_count": 34,
   "metadata": {},
   "outputs": [],
   "source": [
    "def intervalo_confianca_proporcao(conversoes, alpha=0.05):\n",
    "  n = len(conversoes)\n",
    "  p = conversoes.mean()\n",
    "  erro = stats.norm.ppf(1 - alpha/2) * np.sqrt((p * (1 -p)) / n)\n",
    "  return (p - erro, p+erro)"
   ]
  },
  {
   "cell_type": "code",
   "execution_count": 35,
   "metadata": {},
   "outputs": [],
   "source": [
    "# Calcula intervalos de confiança\n",
    "intervalo_A = intervalo_confianca_proporcao(conversao_A)\n",
    "intervalo_B = intervalo_confianca_proporcao(conversao_B)"
   ]
  },
  {
   "cell_type": "code",
   "execution_count": 36,
   "metadata": {},
   "outputs": [
    {
     "name": "stdout",
     "output_type": "stream",
     "text": [
      "Intervalo de confiança A: (np.float64(0.08140614903086316), np.float64(0.11859385096913685))\n",
      "Intervalo de confiança B: (np.float64(0.09245374387584787), np.float64(0.13154625612415213))\n"
     ]
    }
   ],
   "source": [
    "print(f'Intervalo de confiança A: {intervalo_A}')\n",
    "print(f'Intervalo de confiança B: {intervalo_B}')"
   ]
  }
 ],
 "metadata": {
  "kernelspec": {
   "display_name": "Python 3",
   "language": "python",
   "name": "python3"
  },
  "language_info": {
   "codemirror_mode": {
    "name": "ipython",
    "version": 3
   },
   "file_extension": ".py",
   "mimetype": "text/x-python",
   "name": "python",
   "nbconvert_exporter": "python",
   "pygments_lexer": "ipython3",
   "version": "3.10.0"
  }
 },
 "nbformat": 4,
 "nbformat_minor": 2
}
