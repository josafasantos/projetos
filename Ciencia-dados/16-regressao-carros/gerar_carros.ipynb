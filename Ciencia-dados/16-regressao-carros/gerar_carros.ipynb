{
 "cells": [
  {
   "cell_type": "code",
   "execution_count": 1,
   "metadata": {},
   "outputs": [
    {
     "name": "stdout",
     "output_type": "stream",
     "text": [
      "Arquivo 'carros.csv' gerado com sucesso!\n"
     ]
    }
   ],
   "source": [
    "import pandas as pd\n",
    "import numpy as np\n",
    "\n",
    "# Definir semente para reprodutibilidade\n",
    "np.random.seed(42)\n",
    "\n",
    "# Quantidade de linhas\n",
    "num_rows = 1000\n",
    "\n",
    "# Geração das variáveis\n",
    "\n",
    "# 1. Ano (entre 2000 e 2023)\n",
    "anos = np.random.randint(2000, 2024, num_rows)\n",
    "\n",
    "# 2. KM Rodados (entre 0 e 300.000)\n",
    "km_rodados = np.random.randint(0, 300001, num_rows)\n",
    "\n",
    "# 3. Modelos (escolha aleatória de alguns tipos hipotéticos)\n",
    "modelos_possiveis = [\n",
    "    'Sedan Basico', 'Hatch Popular', 'SUV Compacto', \n",
    "    'Picape Media', 'Sedan Premium', 'Esportivo', 'Minivan Familiar'\n",
    "]\n",
    "modelos = np.random.choice(modelos_possiveis, num_rows)\n",
    "\n",
    "# 4. Tipo de Combustível\n",
    "combustiveis_possiveis = ['Gasolina', 'Alcool', 'Diesel', 'Flex']\n",
    "tipo_combustivel = np.random.choice(combustiveis_possiveis, num_rows)\n",
    "\n",
    "# 5. Potência do Motor (entre 80 e 300 cv)\n",
    "potencia_motor = np.random.randint(80, 301, num_rows)\n",
    "\n",
    "# 6. Número de Portas (2, 3 ou 4)\n",
    "n_portas = np.random.choice([2, 3, 4], num_rows)\n",
    "\n",
    "# 7. Preço (variável-alvo)\n",
    "#    Vamos criar uma lógica simples para gerar o preço\n",
    "#    Exemplo: preço base + ajuste pela idade do carro, quilometragem, potência, etc.\n",
    "#    Ajuste aleatório (ruído) para cada instância.\n",
    "\n",
    "# Definir um preço base\n",
    "preco_base = 20000  \n",
    "\n",
    "# Fator de ajuste por ano (carros mais novos tendem a ser mais caros)\n",
    "# Vamos supor que cada ano acima de 2000 acrescente ~R$ 700 no preço\n",
    "fator_ano = (anos - 2000) * 700\n",
    "\n",
    "# Fator de ajuste por km (cada 1000 km rodados reduz algo como R$ 30)\n",
    "fator_km = (km_rodados / 1000) * (-30)\n",
    "\n",
    "# Fator de ajuste pela potência (cada 1 cv adiciona R$ 120)\n",
    "fator_potencia = potencia_motor * 120\n",
    "\n",
    "# Ruído aleatório para simular variação (entre -5000 e 5000)\n",
    "ruido = np.random.randint(-5000, 5001, num_rows)\n",
    "\n",
    "# Cálculo final do preço\n",
    "preco = preco_base + fator_ano + fator_km + fator_potencia + ruido\n",
    "\n",
    "# Evitar preços negativos (caso extremo de quilometragem muito alta, mais ruído)\n",
    "preco = np.where(preco < 2000, 2000, preco)  # preço mínimo fictício de R$ 2000\n",
    "\n",
    "# Montar o DataFrame\n",
    "df_carros = pd.DataFrame({\n",
    "    'preco': preco.astype(int),\n",
    "    'ano': anos,\n",
    "    'km_rodados': km_rodados,\n",
    "    'modelo': modelos,\n",
    "    'tipo_combustivel': tipo_combustivel,\n",
    "    'potencia_motor': potencia_motor,\n",
    "    'n_portas': n_portas\n",
    "})\n",
    "\n",
    "# Salvar em CSV\n",
    "df_carros.to_csv('../../datasets/carros.csv', index=False)\n",
    "\n",
    "print(\"Arquivo 'carros.csv' gerado com sucesso!\")\n"
   ]
  }
 ],
 "metadata": {
  "kernelspec": {
   "display_name": "Python 3",
   "language": "python",
   "name": "python3"
  },
  "language_info": {
   "codemirror_mode": {
    "name": "ipython",
    "version": 3
   },
   "file_extension": ".py",
   "mimetype": "text/x-python",
   "name": "python",
   "nbconvert_exporter": "python",
   "pygments_lexer": "ipython3",
   "version": "3.10.0"
  }
 },
 "nbformat": 4,
 "nbformat_minor": 2
}
