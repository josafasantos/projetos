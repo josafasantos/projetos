{
 "cells": [
  {
   "cell_type": "markdown",
   "metadata": {},
   "source": [
    "# Mapeamento Geográfico"
   ]
  },
  {
   "cell_type": "code",
   "execution_count": 2,
   "metadata": {},
   "outputs": [
    {
     "name": "stdout",
     "output_type": "stream",
     "text": [
      "Collecting folium\n",
      "  Downloading folium-0.19.5-py2.py3-none-any.whl (110 kB)\n",
      "Requirement already satisfied: numpy in c:\\users\\josaf\\appdata\\local\\programs\\python\\python310\\lib\\site-packages (from folium) (1.26.4)\n",
      "Collecting xyzservices\n",
      "  Downloading xyzservices-2025.1.0-py3-none-any.whl (88 kB)\n",
      "Collecting branca>=0.6.0\n",
      "  Downloading branca-0.8.1-py3-none-any.whl (26 kB)\n",
      "Requirement already satisfied: requests in c:\\users\\josaf\\appdata\\local\\programs\\python\\python310\\lib\\site-packages (from folium) (2.32.3)\n",
      "Requirement already satisfied: jinja2>=2.9 in c:\\users\\josaf\\appdata\\local\\programs\\python\\python310\\lib\\site-packages (from folium) (3.1.5)\n",
      "Requirement already satisfied: MarkupSafe>=2.0 in c:\\users\\josaf\\appdata\\local\\programs\\python\\python310\\lib\\site-packages (from jinja2>=2.9->folium) (3.0.2)\n",
      "Requirement already satisfied: idna<4,>=2.5 in c:\\users\\josaf\\appdata\\local\\programs\\python\\python310\\lib\\site-packages (from requests->folium) (3.10)\n",
      "Requirement already satisfied: certifi>=2017.4.17 in c:\\users\\josaf\\appdata\\local\\programs\\python\\python310\\lib\\site-packages (from requests->folium) (2024.8.30)\n",
      "Requirement already satisfied: urllib3<3,>=1.21.1 in c:\\users\\josaf\\appdata\\local\\programs\\python\\python310\\lib\\site-packages (from requests->folium) (2.2.3)\n",
      "Requirement already satisfied: charset-normalizer<4,>=2 in c:\\users\\josaf\\appdata\\local\\programs\\python\\python310\\lib\\site-packages (from requests->folium) (3.4.0)\n",
      "Installing collected packages: xyzservices, branca, folium\n",
      "Successfully installed branca-0.8.1 folium-0.19.5 xyzservices-2025.1.0\n",
      "Note: you may need to restart the kernel to use updated packages.\n"
     ]
    },
    {
     "name": "stderr",
     "output_type": "stream",
     "text": [
      "WARNING: Ignoring invalid distribution -oviepy (c:\\users\\josaf\\appdata\\local\\programs\\python\\python310\\lib\\site-packages)\n",
      "WARNING: Ignoring invalid distribution -oviepy (c:\\users\\josaf\\appdata\\local\\programs\\python\\python310\\lib\\site-packages)\n",
      "WARNING: Ignoring invalid distribution -oviepy (c:\\users\\josaf\\appdata\\local\\programs\\python\\python310\\lib\\site-packages)\n",
      "WARNING: Ignoring invalid distribution -oviepy (c:\\users\\josaf\\appdata\\local\\programs\\python\\python310\\lib\\site-packages)\n",
      "WARNING: Ignoring invalid distribution -oviepy (c:\\users\\josaf\\appdata\\local\\programs\\python\\python310\\lib\\site-packages)\n",
      "WARNING: Ignoring invalid distribution -oviepy (c:\\users\\josaf\\appdata\\local\\programs\\python\\python310\\lib\\site-packages)\n",
      "WARNING: Ignoring invalid distribution -oviepy (c:\\users\\josaf\\appdata\\local\\programs\\python\\python310\\lib\\site-packages)\n",
      "WARNING: Ignoring invalid distribution -oviepy (c:\\users\\josaf\\appdata\\local\\programs\\python\\python310\\lib\\site-packages)\n",
      "WARNING: Ignoring invalid distribution -oviepy (c:\\users\\josaf\\appdata\\local\\programs\\python\\python310\\lib\\site-packages)\n",
      "WARNING: You are using pip version 21.2.3; however, version 25.0.1 is available.\n",
      "You should consider upgrading via the 'c:\\Users\\josaf\\AppData\\Local\\Programs\\Python\\Python310\\python.exe -m pip install --upgrade pip' command.\n"
     ]
    }
   ],
   "source": [
    "# Instalar a biblioteca folium para visualização geográfica interativa\n",
    "%pip install folium"
   ]
  },
  {
   "cell_type": "code",
   "execution_count": 3,
   "metadata": {},
   "outputs": [],
   "source": [
    "# Importando bibliotecas\n",
    "import pandas as pd\n",
    "import folium\n",
    "from folium.plugins import MarkerCluster"
   ]
  },
  {
   "cell_type": "code",
   "execution_count": 4,
   "metadata": {},
   "outputs": [],
   "source": [
    "# Carregar dataset de crimes ficticio\n",
    "df = pd.read_csv('../../datasets/crimes_sp.csv')\n",
    "df = df.dropna(subset=['latitude', 'longitude'])"
   ]
  },
  {
   "cell_type": "code",
   "execution_count": 5,
   "metadata": {},
   "outputs": [],
   "source": [
    "# Criar mapa centralizado em São Paulo\n",
    "mapa = folium.Map(location=[-23.5505, -46.6333], zoom_start=11)"
   ]
  },
  {
   "cell_type": "code",
   "execution_count": 6,
   "metadata": {},
   "outputs": [],
   "source": [
    "# Adiciona os crimes ao mapa com clustering\n",
    "marker_cluster = MarkerCluster().add_to(mapa)"
   ]
  },
  {
   "cell_type": "code",
   "execution_count": 8,
   "metadata": {},
   "outputs": [],
   "source": [
    "for _, row  in df.iterrows():\n",
    "  folium.Marker(\n",
    "    location=[row['latitude'], row['longitude']],\n",
    "    popup=f\"Tipo: {row['tipo_crime']}<br>Data: {row['data']}<br>Bairro: {row['bairro']}\"\n",
    "  ).add_to(marker_cluster)"
   ]
  },
  {
   "cell_type": "code",
   "execution_count": 9,
   "metadata": {},
   "outputs": [],
   "source": [
    "mapa.save('mapa_crimes_sp.html')"
   ]
  }
 ],
 "metadata": {
  "kernelspec": {
   "display_name": "Python 3",
   "language": "python",
   "name": "python3"
  },
  "language_info": {
   "codemirror_mode": {
    "name": "ipython",
    "version": 3
   },
   "file_extension": ".py",
   "mimetype": "text/x-python",
   "name": "python",
   "nbconvert_exporter": "python",
   "pygments_lexer": "ipython3",
   "version": "3.10.0"
  }
 },
 "nbformat": 4,
 "nbformat_minor": 2
}
