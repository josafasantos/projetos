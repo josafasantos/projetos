{
 "cells": [
  {
   "cell_type": "markdown",
   "metadata": {},
   "source": [
    "# Conversão de Formatos (CSV, JSON e Excel)"
   ]
  },
  {
   "cell_type": "code",
   "execution_count": 13,
   "metadata": {},
   "outputs": [
    {
     "name": "stdout",
     "output_type": "stream",
     "text": [
      "Collecting openpyxl\n",
      "  Downloading openpyxl-3.1.5-py2.py3-none-any.whl (250 kB)\n",
      "Collecting et-xmlfile\n",
      "  Downloading et_xmlfile-2.0.0-py3-none-any.whl (18 kB)\n",
      "Installing collected packages: et-xmlfile, openpyxl\n",
      "Successfully installed et-xmlfile-2.0.0 openpyxl-3.1.5\n",
      "Note: you may need to restart the kernel to use updated packages.\n"
     ]
    },
    {
     "name": "stderr",
     "output_type": "stream",
     "text": [
      "WARNING: You are using pip version 21.2.3; however, version 25.0.1 is available.\n",
      "You should consider upgrading via the 'c:\\Users\\josaf\\AppData\\Local\\Programs\\Python\\Python310\\python.exe -m pip install --upgrade pip' command.\n"
     ]
    }
   ],
   "source": [
    "# Instala bibliotecas\n",
    "%pip install openpyxl"
   ]
  },
  {
   "cell_type": "markdown",
   "metadata": {},
   "source": [
    "### Conversão de JSON para CSV"
   ]
  },
  {
   "cell_type": "code",
   "execution_count": 9,
   "metadata": {},
   "outputs": [],
   "source": [
    "# Importando bibliotecas\n",
    "import pandas as pd\n",
    "import json\n",
    "import os"
   ]
  },
  {
   "cell_type": "code",
   "execution_count": 2,
   "metadata": {},
   "outputs": [],
   "source": [
    "# Ler o arquivo JSON\n",
    "with open('../../datasets/exemplo_data.json', 'r', encoding='utf-8') as f:\n",
    "  data_json = json.load(f)"
   ]
  },
  {
   "cell_type": "code",
   "execution_count": 3,
   "metadata": {},
   "outputs": [],
   "source": [
    "# Aplanar o JSON e criar Dataframe\n",
    "df_clientes = pd.DataFrame(data_json)"
   ]
  },
  {
   "cell_type": "code",
   "execution_count": 4,
   "metadata": {},
   "outputs": [],
   "source": [
    "# Converter para string\n",
    "df_clientes['telefones_str'] = df_clientes['telefones'].apply(lambda telefones_list: ', '.join(telefones_list) if telefones_list else '')"
   ]
  },
  {
   "cell_type": "code",
   "execution_count": 5,
   "metadata": {},
   "outputs": [],
   "source": [
    "# Remover a coluna original\n",
    "df_clientes = df_clientes.drop(columns=['telefones'])"
   ]
  },
  {
   "cell_type": "code",
   "execution_count": 10,
   "metadata": {},
   "outputs": [
    {
     "name": "stdout",
     "output_type": "stream",
     "text": [
      "Arquivo CSV 'clientes_convertidos_de_json.csv' criado com sucesso em 'dados_csv/'\n"
     ]
    }
   ],
   "source": [
    "# Salver DataFrame para CSV\n",
    "nome_arquivo = 'clientes_convertidos_de_json'\n",
    "nome_pasta = 'dados_csv'\n",
    "\n",
    "# Cria a pasta\n",
    "try:\n",
    "    os.mkdir(nome_pasta)\n",
    "except FileExistsError:\n",
    "    print(f\"A pasta '{nome_pasta}' já existe\")\n",
    "except FileNotFoundError:\n",
    "    print(f\"Não foi possível criar a pasta '{nome_pasta}' porque o diretório pai não existe.\")\n",
    "except Exception as e:\n",
    "    print(f\"Ocorreu um erro ao criar a pasta: {e}\")\n",
    "\n",
    "df_clientes.to_csv(f'{nome_pasta}/{nome_arquivo}.csv', index=False, encoding='utf-8')\n",
    "print(f\"Arquivo CSV '{nome_arquivo}.csv' criado com sucesso em '{nome_pasta}/'\")"
   ]
  },
  {
   "cell_type": "code",
   "execution_count": 11,
   "metadata": {},
   "outputs": [
    {
     "name": "stdout",
     "output_type": "stream",
     "text": [
      "Primeiras linhas do CSV convertido:\n",
      "   id     nome  idade          cidade               telefones_str\n",
      "0   1    Alice     30       São Paulo  11-1234-5678, 11-9987-6543\n",
      "1   2      Bob     25  Rio de Janeiro                21-4321-8765\n",
      "2   3  Charlie     35  Belo Horizonte                         NaN\n"
     ]
    }
   ],
   "source": [
    "# Validação básica\n",
    "print('Primeiras linhas do CSV convertido:')\n",
    "print(pd.read_csv(f'{nome_pasta}/{nome_arquivo}.csv').head())"
   ]
  },
  {
   "cell_type": "markdown",
   "metadata": {},
   "source": [
    "### Conversão de Excel para CSV"
   ]
  },
  {
   "cell_type": "code",
   "execution_count": 14,
   "metadata": {},
   "outputs": [],
   "source": [
    "# Ler o arquivo Excel\n",
    "df_produtos_excel = pd.read_excel(\"../../datasets/exemplo_data.xlsx\", sheet_name='Produtos')"
   ]
  },
  {
   "cell_type": "code",
   "execution_count": 15,
   "metadata": {},
   "outputs": [
    {
     "name": "stdout",
     "output_type": "stream",
     "text": [
      "Arquivo CSV 'produtos_convertido_de_excel.csv' criado com sucesso em 'dados_csv'\n"
     ]
    }
   ],
   "source": [
    "# Salvar DataFrame 'Produtos' para CSV\n",
    "df_produtos_excel.to_csv(f'{nome_pasta}/produtos_convertido_de_excel.csv', index=False, encoding='utf-8')\n",
    "print(f\"Arquivo CSV 'produtos_convertido_de_excel.csv' criado com sucesso em '{nome_pasta}'\")"
   ]
  },
  {
   "cell_type": "code",
   "execution_count": 17,
   "metadata": {},
   "outputs": [
    {
     "name": "stdout",
     "output_type": "stream",
     "text": [
      "Primeiras linhas do CSV 'produtos_convertido_de_excel.csv':\n",
      "   Produto Categoria  Preço\n",
      "0     Maçã     Fruta    2.5\n",
      "1   Banana     Fruta    3.0\n",
      "2  Laranja     Fruta    2.0\n",
      "3  Morango     Fruta    8.0\n",
      "4   Alface   Verdura    4.0\n"
     ]
    }
   ],
   "source": [
    "# Validação basica\n",
    "print(\"Primeiras linhas do CSV 'produtos_convertido_de_excel.csv':\")\n",
    "print(pd.read_csv(f'{nome_pasta}/produtos_convertido_de_excel.csv').head())"
   ]
  },
  {
   "cell_type": "markdown",
   "metadata": {},
   "source": [
    "### Padronização CSV"
   ]
  },
  {
   "cell_type": "code",
   "execution_count": 18,
   "metadata": {},
   "outputs": [],
   "source": [
    "# Ler Arquivo CSV original com parâmetros específicos para lidar as \"inconsistências\"\n",
    "df_origem_csv = pd.read_csv(\"../../datasets/exemplo_data_origem.csv\", sep=';', encoding='latin-1', quotechar='\"')"
   ]
  },
  {
   "cell_type": "code",
   "execution_count": 22,
   "metadata": {},
   "outputs": [
    {
     "name": "stdout",
     "output_type": "stream",
     "text": [
      "Arquivo CSV 'exemplo_data_padronizado.csv' criado em 'dados_csv'\n"
     ]
    }
   ],
   "source": [
    "# Padranizar para um novo CSV (CSV \"padrão\" - UTF-8, vírgula como separador, sem index)\n",
    "df_origem_csv.to_csv(f'{nome_pasta}/exemplo_data_padronizado.csv', index=False, encoding='utf-8')\n",
    "print(f\"Arquivo CSV 'exemplo_data_padronizado.csv' criado em '{nome_pasta}'\")"
   ]
  },
  {
   "cell_type": "code",
   "execution_count": 23,
   "metadata": {},
   "outputs": [
    {
     "name": "stdout",
     "output_type": "stream",
     "text": [
      "Primeiras linhas do CSV original:\n",
      "   ID              Nome  Idade  Cidade                        Email\n",
      "0   1      JoÃ£o, Silva     28  Lisboa          joao.silva@email.pt\n",
      "1   2      Maria Santos     32   Porto  maria.santos@outroemail.com\n",
      "2   3  Carlos\"Oliveira\"     40   Braga      carlos.oliveira@mail.pt\n",
      "Primeiras linhas do CSV padronizado\n",
      "   ID              Nome  Idade  Cidade                        Email\n",
      "0   1      JoÃ£o, Silva     28  Lisboa          joao.silva@email.pt\n",
      "1   2      Maria Santos     32   Porto  maria.santos@outroemail.com\n",
      "2   3  Carlos\"Oliveira\"     40   Braga      carlos.oliveira@mail.pt\n"
     ]
    }
   ],
   "source": [
    "# Validação básica\n",
    "print(\"Primeiras linhas do CSV original:\")\n",
    "print(pd.read_csv('../../datasets/exemplo_data_origem.csv', sep=\";\", encoding=\"latin-1\", quotechar='\"').head())\n",
    "print(\"Primeiras linhas do CSV padronizado\")\n",
    "print(pd.read_csv(f'{nome_pasta}/exemplo_data_padronizado.csv').head())"
   ]
  }
 ],
 "metadata": {
  "kernelspec": {
   "display_name": "Python 3",
   "language": "python",
   "name": "python3"
  },
  "language_info": {
   "codemirror_mode": {
    "name": "ipython",
    "version": 3
   },
   "file_extension": ".py",
   "mimetype": "text/x-python",
   "name": "python",
   "nbconvert_exporter": "python",
   "pygments_lexer": "ipython3",
   "version": "3.10.0"
  }
 },
 "nbformat": 4,
 "nbformat_minor": 2
}
