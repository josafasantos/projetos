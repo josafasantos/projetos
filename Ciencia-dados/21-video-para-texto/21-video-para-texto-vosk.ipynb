{
 "cells": [
  {
   "cell_type": "code",
   "execution_count": 1,
   "metadata": {},
   "outputs": [],
   "source": [
    "import os\n",
    "import wave\n",
    "import moviepy as mp\n",
    "from vosk import Model, KaldiRecognizer"
   ]
  },
  {
   "cell_type": "code",
   "execution_count": 10,
   "metadata": {},
   "outputs": [
    {
     "name": "stdout",
     "output_type": "stream",
     "text": [
      "\n",
      "Processando: 01.01 Machine Learning.mp4\n",
      "{'video_found': True, 'audio_found': True, 'metadata': {'major_brand': 'isom', 'minor_version': '512', 'compatible_brands': 'isomiso2avc1mp41', 'encoder': 'Lavf57.56.100'}, 'inputs': [{'streams': [{'input_number': 0, 'stream_number': 0, 'stream_type': 'video', 'language': None, 'default': True, 'size': [960, 540], 'bitrate': 311, 'fps': 30.0, 'codec_name': 'h264', 'profile': '(High)', 'metadata': {'Metadata': '', 'handler_name': 'VideoHandler', 'vendor_id': '[0][0][0][0]'}}, {'input_number': 0, 'stream_number': 1, 'stream_type': 'audio', 'language': None, 'default': True, 'fps': 48000, 'bitrate': 117, 'metadata': {'Metadata': '', 'handler_name': 'SoundHandler', 'vendor_id': '[0][0][0][0]'}}], 'input_number': 0}], 'duration': 74.77, 'bitrate': 437, 'start': 0.0, 'default_video_input_number': 0, 'default_video_stream_number': 0, 'video_codec_name': 'h264', 'video_profile': '(High)', 'video_size': [960, 540], 'video_bitrate': 311, 'video_fps': 30.0, 'default_audio_input_number': 0, 'default_audio_stream_number': 1, 'audio_fps': 48000, 'audio_bitrate': 117, 'video_duration': 74.77, 'video_n_frames': 2243}\n",
      "c:\\Python312\\Lib\\site-packages\\imageio_ffmpeg\\binaries\\ffmpeg-win-x86_64-v7.1.exe -i D:\\Cursos\\Formacao Cientista de Dados\\07. Machine Learning\\01\\01.01 Machine Learning.mp4 -loglevel error -f image2pipe -vf scale=960:540 -sws_flags bicubic -pix_fmt rgb24 -vcodec rawvideo -\n",
      "MoviePy - Writing audio in C:\\Users\\josaf\\Documents\\Aulas\\aulas\\Ciencia-dados\\21-video-para-texto\\audio\\01.01 Machine Learning.wav\n"
     ]
    },
    {
     "name": "stderr",
     "output_type": "stream",
     "text": [
      "                                                                    \r"
     ]
    },
    {
     "name": "stdout",
     "output_type": "stream",
     "text": [
      "MoviePy - Done.\n",
      "Áudio extraído: C:\\Users\\josaf\\Documents\\Aulas\\aulas\\Ciencia-dados\\21-video-para-texto\\audio\\01.01 Machine Learning.wav\n",
      "Transcrição: \n",
      "Transcrição salva em: C:\\Users\\josaf\\Documents\\Aulas\\aulas\\Ciencia-dados\\21-video-para-texto\\texto\\01.01 Machine Learning.txt\n",
      "\n",
      "Processando: 01.02 Introdução.mp4\n",
      "{'video_found': True, 'audio_found': True, 'metadata': {'major_brand': 'isom', 'minor_version': '512', 'compatible_brands': 'isomiso2avc1mp41', 'encoder': 'Lavf57.56.100'}, 'inputs': [{'streams': [{'input_number': 0, 'stream_number': 0, 'stream_type': 'video', 'language': None, 'default': True, 'size': [960, 540], 'bitrate': 150, 'fps': 30.0, 'codec_name': 'h264', 'profile': '(High)', 'metadata': {'Metadata': '', 'handler_name': 'VideoHandler', 'vendor_id': '[0][0][0][0]'}}, {'input_number': 0, 'stream_number': 1, 'stream_type': 'audio', 'language': None, 'default': True, 'fps': 48000, 'bitrate': 117, 'metadata': {'Metadata': '', 'handler_name': 'SoundHandler', 'vendor_id': '[0][0][0][0]'}}], 'input_number': 0}], 'duration': 739.82, 'bitrate': 276, 'start': 0.0, 'default_video_input_number': 0, 'default_video_stream_number': 0, 'video_codec_name': 'h264', 'video_profile': '(High)', 'video_size': [960, 540], 'video_bitrate': 150, 'video_fps': 30.0, 'default_audio_input_number': 0, 'default_audio_stream_number': 1, 'audio_fps': 48000, 'audio_bitrate': 117, 'video_duration': 739.82, 'video_n_frames': 22194}\n",
      "c:\\Python312\\Lib\\site-packages\\imageio_ffmpeg\\binaries\\ffmpeg-win-x86_64-v7.1.exe -i D:\\Cursos\\Formacao Cientista de Dados\\07. Machine Learning\\01\\01.02 Introdução.mp4 -loglevel error -f image2pipe -vf scale=960:540 -sws_flags bicubic -pix_fmt rgb24 -vcodec rawvideo -\n",
      "MoviePy - Writing audio in C:\\Users\\josaf\\Documents\\Aulas\\aulas\\Ciencia-dados\\21-video-para-texto\\audio\\01.02 Introdução.wav\n"
     ]
    },
    {
     "name": "stderr",
     "output_type": "stream",
     "text": [
      "                                                                      \r"
     ]
    },
    {
     "name": "stdout",
     "output_type": "stream",
     "text": [
      "MoviePy - Done.\n",
      "Áudio extraído: C:\\Users\\josaf\\Documents\\Aulas\\aulas\\Ciencia-dados\\21-video-para-texto\\audio\\01.02 Introdução.wav\n",
      "Transcrição: muito obrigado e até o próximo vídeo\n",
      "Transcrição salva em: C:\\Users\\josaf\\Documents\\Aulas\\aulas\\Ciencia-dados\\21-video-para-texto\\texto\\01.02 Introdução.txt\n",
      "\n",
      "Processando: 01.02.01 Formação Cientista de Dados.mp4\n",
      "{'video_found': True, 'audio_found': True, 'metadata': {'major_brand': 'isom', 'minor_version': '512', 'compatible_brands': 'isomiso2avc1mp41', 'encoder': 'Lavf57.56.100'}, 'inputs': [{'streams': [{'input_number': 0, 'stream_number': 0, 'stream_type': 'video', 'language': None, 'default': True, 'size': [960, 524], 'bitrate': 150, 'fps': 30.0, 'codec_name': 'h264', 'profile': '(High)', 'metadata': {'Metadata': '', 'handler_name': 'VideoHandler', 'vendor_id': '[0][0][0][0]'}}, {'input_number': 0, 'stream_number': 1, 'stream_type': 'audio', 'language': None, 'default': True, 'fps': 48000, 'bitrate': 117, 'metadata': {'Metadata': '', 'handler_name': 'SoundHandler', 'vendor_id': '[0][0][0][0]'}}], 'input_number': 0}], 'duration': 670.4, 'bitrate': 276, 'start': 0.0, 'default_video_input_number': 0, 'default_video_stream_number': 0, 'video_codec_name': 'h264', 'video_profile': '(High)', 'video_size': [960, 524], 'video_bitrate': 150, 'video_fps': 30.0, 'default_audio_input_number': 0, 'default_audio_stream_number': 1, 'audio_fps': 48000, 'audio_bitrate': 117, 'video_duration': 670.4, 'video_n_frames': 20112}\n",
      "c:\\Python312\\Lib\\site-packages\\imageio_ffmpeg\\binaries\\ffmpeg-win-x86_64-v7.1.exe -i D:\\Cursos\\Formacao Cientista de Dados\\07. Machine Learning\\01\\01.02.01 Formação Cientista de Dados.mp4 -loglevel error -f image2pipe -vf scale=960:524 -sws_flags bicubic -pix_fmt rgb24 -vcodec rawvideo -\n",
      "MoviePy - Writing audio in C:\\Users\\josaf\\Documents\\Aulas\\aulas\\Ciencia-dados\\21-video-para-texto\\audio\\01.02.01 Formação Cientista de Dados.wav\n"
     ]
    },
    {
     "name": "stderr",
     "output_type": "stream",
     "text": [
      "                                                                      \r"
     ]
    },
    {
     "name": "stdout",
     "output_type": "stream",
     "text": [
      "MoviePy - Done.\n",
      "Áudio extraído: C:\\Users\\josaf\\Documents\\Aulas\\aulas\\Ciencia-dados\\21-video-para-texto\\audio\\01.02.01 Formação Cientista de Dados.wav\n",
      "Transcrição: \n",
      "Transcrição salva em: C:\\Users\\josaf\\Documents\\Aulas\\aulas\\Ciencia-dados\\21-video-para-texto\\texto\\01.02.01 Formação Cientista de Dados.txt\n",
      "\n",
      "Processando: 01.03.01 O que é aprendizado de Máquina.mp4\n",
      "{'video_found': True, 'audio_found': True, 'metadata': {'major_brand': 'isom', 'minor_version': '512', 'compatible_brands': 'isomiso2avc1mp41', 'encoder': 'Lavf57.56.100'}, 'inputs': [{'streams': [{'input_number': 0, 'stream_number': 0, 'stream_type': 'video', 'language': None, 'default': True, 'size': [960, 540], 'bitrate': 149, 'fps': 30.0, 'codec_name': 'h264', 'profile': '(High)', 'metadata': {'Metadata': '', 'handler_name': 'VideoHandler', 'vendor_id': '[0][0][0][0]'}}, {'input_number': 0, 'stream_number': 1, 'stream_type': 'audio', 'language': None, 'default': True, 'fps': 48000, 'bitrate': 117, 'metadata': {'Metadata': '', 'handler_name': 'SoundHandler', 'vendor_id': '[0][0][0][0]'}}], 'input_number': 0}], 'duration': 678.42, 'bitrate': 275, 'start': 0.0, 'default_video_input_number': 0, 'default_video_stream_number': 0, 'video_codec_name': 'h264', 'video_profile': '(High)', 'video_size': [960, 540], 'video_bitrate': 149, 'video_fps': 30.0, 'default_audio_input_number': 0, 'default_audio_stream_number': 1, 'audio_fps': 48000, 'audio_bitrate': 117, 'video_duration': 678.42, 'video_n_frames': 20352}\n",
      "c:\\Python312\\Lib\\site-packages\\imageio_ffmpeg\\binaries\\ffmpeg-win-x86_64-v7.1.exe -i D:\\Cursos\\Formacao Cientista de Dados\\07. Machine Learning\\01\\01.03.01 O que é aprendizado de Máquina.mp4 -loglevel error -f image2pipe -vf scale=960:540 -sws_flags bicubic -pix_fmt rgb24 -vcodec rawvideo -\n",
      "MoviePy - Writing audio in C:\\Users\\josaf\\Documents\\Aulas\\aulas\\Ciencia-dados\\21-video-para-texto\\audio\\01.03.01 O que é aprendizado de Máquina.wav\n"
     ]
    },
    {
     "name": "stderr",
     "output_type": "stream",
     "text": [
      "                                                                      \r"
     ]
    },
    {
     "name": "stdout",
     "output_type": "stream",
     "text": [
      "MoviePy - Done.\n",
      "Áudio extraído: C:\\Users\\josaf\\Documents\\Aulas\\aulas\\Ciencia-dados\\21-video-para-texto\\audio\\01.03.01 O que é aprendizado de Máquina.wav\n",
      "Transcrição: à medida que se vai acontecendo tecnologia vai evoluindo bem agora somos capazes de criar sistemas mais inteligente falaremos mais sobre isso daqui a pouco\n",
      "Transcrição salva em: C:\\Users\\josaf\\Documents\\Aulas\\aulas\\Ciencia-dados\\21-video-para-texto\\texto\\01.03.01 O que é aprendizado de Máquina.txt\n",
      "\n",
      "Processando: 01.03.02 O que é aprendizado de Máquina.mp4\n",
      "{'video_found': True, 'audio_found': True, 'metadata': {'major_brand': 'isom', 'minor_version': '512', 'compatible_brands': 'isomiso2avc1mp41', 'encoder': 'Lavf57.56.100'}, 'inputs': [{'streams': [{'input_number': 0, 'stream_number': 0, 'stream_type': 'video', 'language': None, 'default': True, 'size': [960, 540], 'bitrate': 149, 'fps': 30.0, 'codec_name': 'h264', 'profile': '(High)', 'metadata': {'Metadata': '', 'handler_name': 'VideoHandler', 'vendor_id': '[0][0][0][0]'}}, {'input_number': 0, 'stream_number': 1, 'stream_type': 'audio', 'language': None, 'default': True, 'fps': 48000, 'bitrate': 117, 'metadata': {'Metadata': '', 'handler_name': 'SoundHandler', 'vendor_id': '[0][0][0][0]'}}], 'input_number': 0}], 'duration': 482.54, 'bitrate': 275, 'start': 0.0, 'default_video_input_number': 0, 'default_video_stream_number': 0, 'video_codec_name': 'h264', 'video_profile': '(High)', 'video_size': [960, 540], 'video_bitrate': 149, 'video_fps': 30.0, 'default_audio_input_number': 0, 'default_audio_stream_number': 1, 'audio_fps': 48000, 'audio_bitrate': 117, 'video_duration': 482.54, 'video_n_frames': 14476}\n",
      "c:\\Python312\\Lib\\site-packages\\imageio_ffmpeg\\binaries\\ffmpeg-win-x86_64-v7.1.exe -i D:\\Cursos\\Formacao Cientista de Dados\\07. Machine Learning\\01\\01.03.02 O que é aprendizado de Máquina.mp4 -loglevel error -f image2pipe -vf scale=960:540 -sws_flags bicubic -pix_fmt rgb24 -vcodec rawvideo -\n",
      "MoviePy - Writing audio in C:\\Users\\josaf\\Documents\\Aulas\\aulas\\Ciencia-dados\\21-video-para-texto\\audio\\01.03.02 O que é aprendizado de Máquina.wav\n"
     ]
    },
    {
     "name": "stderr",
     "output_type": "stream",
     "text": [
      "                                                                      \r"
     ]
    },
    {
     "name": "stdout",
     "output_type": "stream",
     "text": [
      "MoviePy - Done.\n",
      "Áudio extraído: C:\\Users\\josaf\\Documents\\Aulas\\aulas\\Ciencia-dados\\21-video-para-texto\\audio\\01.03.02 O que é aprendizado de Máquina.wav\n"
     ]
    },
    {
     "ename": "KeyboardInterrupt",
     "evalue": "",
     "output_type": "error",
     "traceback": [
      "\u001b[1;31m---------------------------------------------------------------------------\u001b[0m",
      "\u001b[1;31mKeyboardInterrupt\u001b[0m                         Traceback (most recent call last)",
      "Cell \u001b[1;32mIn[10], line 110\u001b[0m\n\u001b[0;32m    107\u001b[0m     processar_videos_em_pasta(pasta_videos, model_dir)\n\u001b[0;32m    109\u001b[0m \u001b[38;5;28;01mif\u001b[39;00m \u001b[38;5;18m__name__\u001b[39m \u001b[38;5;241m==\u001b[39m \u001b[38;5;124m\"\u001b[39m\u001b[38;5;124m__main__\u001b[39m\u001b[38;5;124m\"\u001b[39m:\n\u001b[1;32m--> 110\u001b[0m     \u001b[43mmain\u001b[49m\u001b[43m(\u001b[49m\u001b[43m)\u001b[49m\n",
      "Cell \u001b[1;32mIn[10], line 107\u001b[0m, in \u001b[0;36mmain\u001b[1;34m()\u001b[0m\n\u001b[0;32m    104\u001b[0m     \u001b[38;5;28mprint\u001b[39m(\u001b[38;5;124mf\u001b[39m\u001b[38;5;124m\"\u001b[39m\u001b[38;5;124mPasta de modelo \u001b[39m\u001b[38;5;124m'\u001b[39m\u001b[38;5;132;01m{\u001b[39;00mmodel_dir\u001b[38;5;132;01m}\u001b[39;00m\u001b[38;5;124m'\u001b[39m\u001b[38;5;124m não existe. Baixe e extraia o modelo Vosk para PT.\u001b[39m\u001b[38;5;124m\"\u001b[39m)\n\u001b[0;32m    105\u001b[0m     \u001b[38;5;28;01mreturn\u001b[39;00m\n\u001b[1;32m--> 107\u001b[0m \u001b[43mprocessar_videos_em_pasta\u001b[49m\u001b[43m(\u001b[49m\u001b[43mpasta_videos\u001b[49m\u001b[43m,\u001b[49m\u001b[43m \u001b[49m\u001b[43mmodel_dir\u001b[49m\u001b[43m)\u001b[49m\n",
      "Cell \u001b[1;32mIn[10], line 82\u001b[0m, in \u001b[0;36mprocessar_videos_em_pasta\u001b[1;34m(pasta, model_dir)\u001b[0m\n\u001b[0;32m     79\u001b[0m \u001b[38;5;28mprint\u001b[39m(\u001b[38;5;124mf\u001b[39m\u001b[38;5;124m\"\u001b[39m\u001b[38;5;124mÁudio extraído: \u001b[39m\u001b[38;5;132;01m{\u001b[39;00mcaminho_audio\u001b[38;5;132;01m}\u001b[39;00m\u001b[38;5;124m\"\u001b[39m)\n\u001b[0;32m     81\u001b[0m \u001b[38;5;66;03m# 2) Reconhecer fala offline\u001b[39;00m\n\u001b[1;32m---> 82\u001b[0m texto_transcrito \u001b[38;5;241m=\u001b[39m \u001b[43mreconhecer_fala_offline\u001b[49m\u001b[43m(\u001b[49m\u001b[43mcaminho_audio\u001b[49m\u001b[43m,\u001b[49m\u001b[43m \u001b[49m\u001b[43mmodel_dir\u001b[49m\u001b[43m)\u001b[49m\n\u001b[0;32m     83\u001b[0m \u001b[38;5;28mprint\u001b[39m(\u001b[38;5;124mf\u001b[39m\u001b[38;5;124m\"\u001b[39m\u001b[38;5;124mTranscrição: \u001b[39m\u001b[38;5;132;01m{\u001b[39;00mtexto_transcrito\u001b[38;5;132;01m}\u001b[39;00m\u001b[38;5;124m\"\u001b[39m)\n\u001b[0;32m     85\u001b[0m \u001b[38;5;66;03m# 3) Salvar .txt\u001b[39;00m\n",
      "Cell \u001b[1;32mIn[10], line 39\u001b[0m, in \u001b[0;36mreconhecer_fala_offline\u001b[1;34m(audio_path, model_dir)\u001b[0m\n\u001b[0;32m     36\u001b[0m \u001b[38;5;28;01mif\u001b[39;00m \u001b[38;5;28mlen\u001b[39m(data) \u001b[38;5;241m==\u001b[39m \u001b[38;5;241m0\u001b[39m:\n\u001b[0;32m     37\u001b[0m     \u001b[38;5;28;01mbreak\u001b[39;00m\n\u001b[1;32m---> 39\u001b[0m \u001b[38;5;28;01mif\u001b[39;00m \u001b[43mrec\u001b[49m\u001b[38;5;241;43m.\u001b[39;49m\u001b[43mAcceptWaveform\u001b[49m\u001b[43m(\u001b[49m\u001b[43mdata\u001b[49m\u001b[43m)\u001b[49m:\n\u001b[0;32m     40\u001b[0m     \u001b[38;5;66;03m# Quando o reconhecedor aceita um \"chunk\" de áudio\u001b[39;00m\n\u001b[0;32m     41\u001b[0m     \u001b[38;5;66;03m# podemos pegar o resultado parcial\u001b[39;00m\n\u001b[0;32m     42\u001b[0m     result_json \u001b[38;5;241m=\u001b[39m rec\u001b[38;5;241m.\u001b[39mResult()\n\u001b[0;32m     43\u001b[0m     \u001b[38;5;66;03m# Exemplo de como extrair apenas o \"text\" de result_json\u001b[39;00m\n\u001b[0;32m     44\u001b[0m     \u001b[38;5;66;03m# mas geralmente a cada chunk não queremos concatenar tudo ainda\u001b[39;00m\n\u001b[0;32m     45\u001b[0m     \u001b[38;5;66;03m# (porque é parcial)\u001b[39;00m\n\u001b[0;32m     46\u001b[0m     \u001b[38;5;66;03m# Aqui vamos só deixar o Vosk montar o resultado final no rec.FinalResult()\u001b[39;00m\n",
      "File \u001b[1;32mc:\\Python312\\Lib\\site-packages\\vosk\\__init__.py:182\u001b[0m, in \u001b[0;36mKaldiRecognizer.AcceptWaveform\u001b[1;34m(self, data)\u001b[0m\n\u001b[0;32m    181\u001b[0m \u001b[38;5;28;01mdef\u001b[39;00m \u001b[38;5;21mAcceptWaveform\u001b[39m(\u001b[38;5;28mself\u001b[39m, data):\n\u001b[1;32m--> 182\u001b[0m     res \u001b[38;5;241m=\u001b[39m \u001b[43m_c\u001b[49m\u001b[38;5;241;43m.\u001b[39;49m\u001b[43mvosk_recognizer_accept_waveform\u001b[49m\u001b[43m(\u001b[49m\u001b[38;5;28;43mself\u001b[39;49m\u001b[38;5;241;43m.\u001b[39;49m\u001b[43m_handle\u001b[49m\u001b[43m,\u001b[49m\u001b[43m \u001b[49m\u001b[43mdata\u001b[49m\u001b[43m,\u001b[49m\u001b[43m \u001b[49m\u001b[38;5;28;43mlen\u001b[39;49m\u001b[43m(\u001b[49m\u001b[43mdata\u001b[49m\u001b[43m)\u001b[49m\u001b[43m)\u001b[49m\n\u001b[0;32m    183\u001b[0m     \u001b[38;5;28;01mif\u001b[39;00m res \u001b[38;5;241m<\u001b[39m \u001b[38;5;241m0\u001b[39m:\n\u001b[0;32m    184\u001b[0m         \u001b[38;5;28;01mraise\u001b[39;00m \u001b[38;5;167;01mException\u001b[39;00m(\u001b[38;5;124m\"\u001b[39m\u001b[38;5;124mFailed to process waveform\u001b[39m\u001b[38;5;124m\"\u001b[39m)\n",
      "\u001b[1;31mKeyboardInterrupt\u001b[0m: "
     ]
    }
   ],
   "source": [
    "def extrair_audio(video_path, audio_path):\n",
    "    \"\"\"\n",
    "    Extrai o áudio de um arquivo de vídeo usando moviepy e salva como WAV\n",
    "    com 16 kHz, mono (codec pcm_s16le).\n",
    "    \"\"\"\n",
    "    clip = mp.VideoFileClip(video_path)\n",
    "    clip.audio.write_audiofile(\n",
    "        audio_path, \n",
    "        codec='pcm_s16le', \n",
    "        fps=16000, \n",
    "        ffmpeg_params=[\"-ac\", \"1\"]  # -ac 1 = força mono\n",
    "    )\n",
    "\n",
    "def reconhecer_fala_offline(audio_path, model_dir):\n",
    "    \"\"\"\n",
    "    Faz a transcrição offline do arquivo de áudio usando o modelo Vosk.\n",
    "    Retorna o texto transcrito.\n",
    "    \"\"\"\n",
    "    # Carrega o modelo Vosk (isso pode demorar alguns segundos na primeira vez)\n",
    "    model = Model(model_dir)\n",
    "\n",
    "    # Abre o arquivo WAV para leitura\n",
    "    with wave.open(audio_path, \"rb\") as wf:\n",
    "        # Verifica se a taxa de amostragem está correta\n",
    "        if wf.getframerate() != 16000:\n",
    "            raise ValueError(\"A taxa de amostragem do áudio deve ser 16 kHz para este exemplo.\")\n",
    "\n",
    "        # Cria um reconhecedor Kaldi\n",
    "        rec = KaldiRecognizer(model, wf.getframerate())\n",
    "        \n",
    "        texto_resultante = \"\"\n",
    "\n",
    "        # Lê o áudio em blocos e alimenta o reconhecedor\n",
    "        while True:\n",
    "            data = wf.readframes(4000)  # 4000 frames ~ 0.25 seg a 16kHz\n",
    "            if len(data) == 0:\n",
    "                break\n",
    "\n",
    "            if rec.AcceptWaveform(data):\n",
    "                # Quando o reconhecedor aceita um \"chunk\" de áudio\n",
    "                # podemos pegar o resultado parcial\n",
    "                result_json = rec.Result()\n",
    "                # Exemplo de como extrair apenas o \"text\" de result_json\n",
    "                # mas geralmente a cada chunk não queremos concatenar tudo ainda\n",
    "                # (porque é parcial)\n",
    "                # Aqui vamos só deixar o Vosk montar o resultado final no rec.FinalResult()\n",
    "                pass\n",
    "\n",
    "        # Finaliza e pega resultado total\n",
    "        final_json = rec.FinalResult()\n",
    "        import json\n",
    "        # final_json é algo como {\"text\": \"texto final\"}\n",
    "        texto_resultante = json.loads(final_json).get(\"text\", \"\")\n",
    "\n",
    "    return texto_resultante\n",
    "\n",
    "def processar_videos_em_pasta(pasta, model_dir):\n",
    "    \"\"\"\n",
    "    Varre todos os arquivos .mp4 na pasta e realiza:\n",
    "      - Extração do áudio em WAV (16 kHz, mono)\n",
    "      - Transcrição offline via Vosk\n",
    "      - Salva o texto em .txt com o mesmo nome do vídeo\n",
    "    \"\"\"\n",
    "    for arquivo in os.listdir(pasta):\n",
    "        if arquivo.lower().endswith(\".mp4\"):\n",
    "            print(f\"\\nProcessando: {arquivo}\")\n",
    "\n",
    "            caminho_novo_audio = \"C:\\\\Users\\\\josaf\\\\Documents\\\\Aulas\\\\aulas\\\\Ciencia-dados\\\\21-video-para-texto\\\\audio\"\n",
    "            caminho_novo_texto = \"C:\\\\Users\\\\josaf\\\\Documents\\\\Aulas\\\\aulas\\\\Ciencia-dados\\\\21-video-para-texto\\\\texto\"\n",
    "\n",
    "            caminho_video = os.path.join(pasta, arquivo)\n",
    "            nome_base = os.path.splitext(arquivo)[0]\n",
    "            caminho_audio = os.path.join(caminho_novo_audio, f\"{nome_base}.wav\")\n",
    "            caminho_txt = os.path.join(caminho_novo_texto, f\"{nome_base}.txt\")\n",
    "\n",
    "            try:\n",
    "                # 1) Extrair áudio\n",
    "                extrair_audio(caminho_video, caminho_audio)\n",
    "                print(f\"Áudio extraído: {caminho_audio}\")\n",
    "\n",
    "                # 2) Reconhecer fala offline\n",
    "                texto_transcrito = reconhecer_fala_offline(caminho_audio, model_dir)\n",
    "                print(f\"Transcrição: {texto_transcrito}\")\n",
    "\n",
    "                # 3) Salvar .txt\n",
    "                with open(caminho_txt, \"w\", encoding=\"utf-8\") as f:\n",
    "                    f.write(texto_transcrito)\n",
    "                print(f\"Transcrição salva em: {caminho_txt}\")\n",
    "\n",
    "            except Exception as e:\n",
    "                print(f\"Erro ao processar {arquivo}: {e}\")\n",
    "\n",
    "def main():\n",
    "    # Defina a pasta dos vídeos:\n",
    "    pasta_videos = \"D:\\\\Cursos\\\\Formacao Cientista de Dados\\\\07. Machine Learning\\\\01\"\n",
    "    # Defina onde está o modelo Vosk para português (ex.: \"modelos/vosk-model-small-pt-0.4\")\n",
    "    model_dir = r\"modelo-vosk/vosk-model-small-pt-0.3\"\n",
    "\n",
    "    if not os.path.isdir(pasta_videos):\n",
    "        print(f\"Pasta '{pasta_videos}' não existe.\")\n",
    "        return\n",
    "    \n",
    "    if not os.path.isdir(model_dir):\n",
    "        print(f\"Pasta de modelo '{model_dir}' não existe. Baixe e extraia o modelo Vosk para PT.\")\n",
    "        return\n",
    "\n",
    "    processar_videos_em_pasta(pasta_videos, model_dir)\n",
    "\n",
    "if __name__ == \"__main__\":\n",
    "    main()\n"
   ]
  },
  {
   "cell_type": "code",
   "execution_count": null,
   "metadata": {},
   "outputs": [
    {
     "name": "stdout",
     "output_type": "stream",
     "text": [
      "Modelo carregado com sucesso!\n"
     ]
    }
   ],
   "source": [
    "from vosk import Model\n",
    "\n",
    "model_path = r\"modelo-vosk/vosk-model-small-pt-0.3\" # Ajuste o caminho\n",
    "model = Model(model_path)\n",
    "print(\"Modelo carregado com sucesso!\")"
   ]
  },
  {
   "cell_type": "code",
   "execution_count": 7,
   "metadata": {},
   "outputs": [
    {
     "name": "stdout",
     "output_type": "stream",
     "text": [
      "('64bit', 'WindowsPE')\n"
     ]
    }
   ],
   "source": [
    "import platform\n",
    "print(platform.architecture())"
   ]
  }
 ],
 "metadata": {
  "kernelspec": {
   "display_name": "Python 3",
   "language": "python",
   "name": "python3"
  },
  "language_info": {
   "codemirror_mode": {
    "name": "ipython",
    "version": 3
   },
   "file_extension": ".py",
   "mimetype": "text/x-python",
   "name": "python",
   "nbconvert_exporter": "python",
   "pygments_lexer": "ipython3",
   "version": "3.12.1"
  }
 },
 "nbformat": 4,
 "nbformat_minor": 2
}
