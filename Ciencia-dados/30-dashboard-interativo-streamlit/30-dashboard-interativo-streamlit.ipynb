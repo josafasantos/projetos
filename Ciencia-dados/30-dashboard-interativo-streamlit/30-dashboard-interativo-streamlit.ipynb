{
 "cells": [
  {
   "cell_type": "markdown",
   "metadata": {},
   "source": [
    "# Dashboard Interativo com Streamlit"
   ]
  },
  {
   "cell_type": "code",
   "execution_count": 21,
   "metadata": {},
   "outputs": [
    {
     "name": "stdout",
     "output_type": "stream",
     "text": [
      "Requirement already satisfied: streamlit in c:\\users\\josaf\\appdata\\local\\programs\\python\\python310\\lib\\site-packages (1.43.2)\n",
      "Requirement already satisfied: pandas<3,>=1.4.0 in c:\\users\\josaf\\appdata\\local\\programs\\python\\python310\\lib\\site-packages (from streamlit) (2.2.3)\n",
      "Requirement already satisfied: pydeck<1,>=0.8.0b4 in c:\\users\\josaf\\appdata\\local\\programs\\python\\python310\\lib\\site-packages (from streamlit) (0.9.1)\n",
      "Requirement already satisfied: typing-extensions<5,>=4.4.0 in c:\\users\\josaf\\appdata\\roaming\\python\\python310\\site-packages (from streamlit) (4.12.2)\n",
      "Requirement already satisfied: altair<6,>=4.0 in c:\\users\\josaf\\appdata\\local\\programs\\python\\python310\\lib\\site-packages (from streamlit) (5.5.0)\n",
      "Requirement already satisfied: blinker<2,>=1.0.0 in c:\\users\\josaf\\appdata\\local\\programs\\python\\python310\\lib\\site-packages (from streamlit) (1.9.0)\n",
      "Requirement already satisfied: packaging<25,>=20 in c:\\users\\josaf\\appdata\\roaming\\python\\python310\\site-packages (from streamlit) (24.2)\n",
      "Requirement already satisfied: watchdog<7,>=2.1.5 in c:\\users\\josaf\\appdata\\local\\programs\\python\\python310\\lib\\site-packages (from streamlit) (6.0.0)\n",
      "Requirement already satisfied: toml<2,>=0.10.1 in c:\\users\\josaf\\appdata\\local\\programs\\python\\python310\\lib\\site-packages (from streamlit) (0.10.2)\n",
      "Requirement already satisfied: numpy<3,>=1.23 in c:\\users\\josaf\\appdata\\local\\programs\\python\\python310\\lib\\site-packages (from streamlit) (1.26.4)\n",
      "Requirement already satisfied: pillow<12,>=7.1.0 in c:\\users\\josaf\\appdata\\local\\programs\\python\\python310\\lib\\site-packages (from streamlit) (10.4.0)\n",
      "Requirement already satisfied: requests<3,>=2.27 in c:\\users\\josaf\\appdata\\local\\programs\\python\\python310\\lib\\site-packages (from streamlit) (2.32.3)\n",
      "Requirement already satisfied: tenacity<10,>=8.1.0 in c:\\users\\josaf\\appdata\\local\\programs\\python\\python310\\lib\\site-packages (from streamlit) (9.0.0)\n",
      "Requirement already satisfied: click<9,>=7.0 in c:\\users\\josaf\\appdata\\local\\programs\\python\\python310\\lib\\site-packages (from streamlit) (8.1.8)\n",
      "Requirement already satisfied: pyarrow>=7.0 in c:\\users\\josaf\\appdata\\local\\programs\\python\\python310\\lib\\site-packages (from streamlit) (19.0.1)\n",
      "Requirement already satisfied: gitpython!=3.1.19,<4,>=3.0.7 in c:\\users\\josaf\\appdata\\local\\programs\\python\\python310\\lib\\site-packages (from streamlit) (3.1.44)\n",
      "Requirement already satisfied: protobuf<6,>=3.20 in c:\\users\\josaf\\appdata\\local\\programs\\python\\python310\\lib\\site-packages (from streamlit) (5.28.3)\n",
      "Requirement already satisfied: tornado<7,>=6.0.3 in c:\\users\\josaf\\appdata\\roaming\\python\\python310\\site-packages (from streamlit) (6.4.2)\n",
      "Requirement already satisfied: cachetools<6,>=4.0 in c:\\users\\josaf\\appdata\\local\\programs\\python\\python310\\lib\\site-packages (from streamlit) (5.5.2)\n",
      "Requirement already satisfied: jsonschema>=3.0 in c:\\users\\josaf\\appdata\\local\\programs\\python\\python310\\lib\\site-packages (from altair<6,>=4.0->streamlit) (4.23.0)\n",
      "Requirement already satisfied: jinja2 in c:\\users\\josaf\\appdata\\local\\programs\\python\\python310\\lib\\site-packages (from altair<6,>=4.0->streamlit) (3.1.5)\n",
      "Requirement already satisfied: narwhals>=1.14.2 in c:\\users\\josaf\\appdata\\local\\programs\\python\\python310\\lib\\site-packages (from altair<6,>=4.0->streamlit) (1.26.0)\n",
      "Requirement already satisfied: colorama in c:\\users\\josaf\\appdata\\roaming\\python\\python310\\site-packages (from click<9,>=7.0->streamlit) (0.4.6)\n",
      "Requirement already satisfied: gitdb<5,>=4.0.1 in c:\\users\\josaf\\appdata\\local\\programs\\python\\python310\\lib\\site-packages (from gitpython!=3.1.19,<4,>=3.0.7->streamlit) (4.0.12)\n",
      "Requirement already satisfied: smmap<6,>=3.0.1 in c:\\users\\josaf\\appdata\\local\\programs\\python\\python310\\lib\\site-packages (from gitdb<5,>=4.0.1->gitpython!=3.1.19,<4,>=3.0.7->streamlit) (5.0.2)\n",
      "Requirement already satisfied: referencing>=0.28.4 in c:\\users\\josaf\\appdata\\local\\programs\\python\\python310\\lib\\site-packages (from jsonschema>=3.0->altair<6,>=4.0->streamlit) (0.36.2)\n",
      "Requirement already satisfied: jsonschema-specifications>=2023.03.6 in c:\\users\\josaf\\appdata\\local\\programs\\python\\python310\\lib\\site-packages (from jsonschema>=3.0->altair<6,>=4.0->streamlit) (2024.10.1)\n",
      "Requirement already satisfied: attrs>=22.2.0 in c:\\users\\josaf\\appdata\\local\\programs\\python\\python310\\lib\\site-packages (from jsonschema>=3.0->altair<6,>=4.0->streamlit) (25.1.0)\n",
      "Requirement already satisfied: rpds-py>=0.7.1 in c:\\users\\josaf\\appdata\\local\\programs\\python\\python310\\lib\\site-packages (from jsonschema>=3.0->altair<6,>=4.0->streamlit) (0.22.3)\n",
      "Requirement already satisfied: pytz>=2020.1 in c:\\users\\josaf\\appdata\\local\\programs\\python\\python310\\lib\\site-packages (from pandas<3,>=1.4.0->streamlit) (2024.2)\n",
      "Requirement already satisfied: python-dateutil>=2.8.2 in c:\\users\\josaf\\appdata\\roaming\\python\\python310\\site-packages (from pandas<3,>=1.4.0->streamlit) (2.9.0.post0)\n",
      "Requirement already satisfied: tzdata>=2022.7 in c:\\users\\josaf\\appdata\\local\\programs\\python\\python310\\lib\\site-packages (from pandas<3,>=1.4.0->streamlit) (2024.2)\n",
      "Requirement already satisfied: MarkupSafe>=2.0 in c:\\users\\josaf\\appdata\\local\\programs\\python\\python310\\lib\\site-packages (from jinja2->altair<6,>=4.0->streamlit) (3.0.2)\n",
      "Requirement already satisfied: six>=1.5 in c:\\users\\josaf\\appdata\\roaming\\python\\python310\\site-packages (from python-dateutil>=2.8.2->pandas<3,>=1.4.0->streamlit) (1.16.0)\n",
      "Requirement already satisfied: urllib3<3,>=1.21.1 in c:\\users\\josaf\\appdata\\local\\programs\\python\\python310\\lib\\site-packages (from requests<3,>=2.27->streamlit) (2.2.3)\n",
      "Requirement already satisfied: charset-normalizer<4,>=2 in c:\\users\\josaf\\appdata\\local\\programs\\python\\python310\\lib\\site-packages (from requests<3,>=2.27->streamlit) (3.4.0)\n",
      "Requirement already satisfied: certifi>=2017.4.17 in c:\\users\\josaf\\appdata\\local\\programs\\python\\python310\\lib\\site-packages (from requests<3,>=2.27->streamlit) (2024.8.30)\n",
      "Requirement already satisfied: idna<4,>=2.5 in c:\\users\\josaf\\appdata\\local\\programs\\python\\python310\\lib\\site-packages (from requests<3,>=2.27->streamlit) (3.10)\n",
      "Note: you may need to restart the kernel to use updated packages.\n"
     ]
    },
    {
     "name": "stderr",
     "output_type": "stream",
     "text": [
      "WARNING: Ignoring invalid distribution -oviepy (c:\\users\\josaf\\appdata\\local\\programs\\python\\python310\\lib\\site-packages)\n",
      "WARNING: Ignoring invalid distribution -oviepy (c:\\users\\josaf\\appdata\\local\\programs\\python\\python310\\lib\\site-packages)\n",
      "WARNING: Ignoring invalid distribution -oviepy (c:\\users\\josaf\\appdata\\local\\programs\\python\\python310\\lib\\site-packages)\n",
      "WARNING: Ignoring invalid distribution -oviepy (c:\\users\\josaf\\appdata\\local\\programs\\python\\python310\\lib\\site-packages)\n",
      "WARNING: Ignoring invalid distribution -oviepy (c:\\users\\josaf\\appdata\\local\\programs\\python\\python310\\lib\\site-packages)\n",
      "WARNING: Ignoring invalid distribution -oviepy (c:\\users\\josaf\\appdata\\local\\programs\\python\\python310\\lib\\site-packages)\n",
      "WARNING: You are using pip version 21.2.3; however, version 25.0.1 is available.\n",
      "You should consider upgrading via the 'c:\\Users\\josaf\\AppData\\Local\\Programs\\Python\\Python310\\python.exe -m pip install --upgrade pip' command.\n"
     ]
    }
   ],
   "source": [
    "%pip install streamlit"
   ]
  },
  {
   "cell_type": "code",
   "execution_count": 22,
   "metadata": {},
   "outputs": [],
   "source": [
    "# Importando Bibliotecas\n",
    "import streamlit as st\n",
    "import pandas as pd\n",
    "import matplotlib.pyplot as plt\n",
    "import seaborn as sns"
   ]
  },
  {
   "cell_type": "code",
   "execution_count": 23,
   "metadata": {},
   "outputs": [
    {
     "name": "stderr",
     "output_type": "stream",
     "text": [
      "2025-03-21 01:15:20.414 Thread 'MainThread': missing ScriptRunContext! This warning can be ignored when running in bare mode.\n",
      "2025-03-21 01:15:20.415 Thread 'MainThread': missing ScriptRunContext! This warning can be ignored when running in bare mode.\n"
     ]
    },
    {
     "data": {
      "text/plain": [
       "DeltaGenerator()"
      ]
     },
     "execution_count": 23,
     "metadata": {},
     "output_type": "execute_result"
    }
   ],
   "source": [
    "# Titulo\n",
    "st.title(\"Dashboard Interativo - Segmentação de Clientes\")"
   ]
  },
  {
   "cell_type": "code",
   "execution_count": 24,
   "metadata": {},
   "outputs": [
    {
     "name": "stderr",
     "output_type": "stream",
     "text": [
      "2025-03-21 01:15:20.428 No runtime found, using MemoryCacheStorageManager\n"
     ]
    }
   ],
   "source": [
    "# Carregando os dados\n",
    "@st.cache_data\n",
    "def carregar_dados():\n",
    "  return pd.read_csv(\"../../datasets/clientes_kmeans2.csv\")\n",
    "\n",
    "df = carregar_dados()"
   ]
  },
  {
   "cell_type": "code",
   "execution_count": 25,
   "metadata": {},
   "outputs": [
    {
     "data": {
      "text/html": [
       "<div>\n",
       "<style scoped>\n",
       "    .dataframe tbody tr th:only-of-type {\n",
       "        vertical-align: middle;\n",
       "    }\n",
       "\n",
       "    .dataframe tbody tr th {\n",
       "        vertical-align: top;\n",
       "    }\n",
       "\n",
       "    .dataframe thead th {\n",
       "        text-align: right;\n",
       "    }\n",
       "</style>\n",
       "<table border=\"1\" class=\"dataframe\">\n",
       "  <thead>\n",
       "    <tr style=\"text-align: right;\">\n",
       "      <th></th>\n",
       "      <th>customer_id</th>\n",
       "      <th>valor_total_compras</th>\n",
       "      <th>frequencia_compras</th>\n",
       "      <th>recencia_ultima_compra</th>\n",
       "      <th>categoria_produto_preferida</th>\n",
       "      <th>cluster_kmeans</th>\n",
       "    </tr>\n",
       "  </thead>\n",
       "  <tbody>\n",
       "    <tr>\n",
       "      <th>0</th>\n",
       "      <td>1</td>\n",
       "      <td>1500</td>\n",
       "      <td>10</td>\n",
       "      <td>30</td>\n",
       "      <td>Eletrônicos</td>\n",
       "      <td>0</td>\n",
       "    </tr>\n",
       "    <tr>\n",
       "      <th>1</th>\n",
       "      <td>2</td>\n",
       "      <td>300</td>\n",
       "      <td>2</td>\n",
       "      <td>150</td>\n",
       "      <td>Roupas</td>\n",
       "      <td>2</td>\n",
       "    </tr>\n",
       "    <tr>\n",
       "      <th>2</th>\n",
       "      <td>3</td>\n",
       "      <td>2200</td>\n",
       "      <td>15</td>\n",
       "      <td>10</td>\n",
       "      <td>Casa e Decoração</td>\n",
       "      <td>0</td>\n",
       "    </tr>\n",
       "    <tr>\n",
       "      <th>3</th>\n",
       "      <td>4</td>\n",
       "      <td>500</td>\n",
       "      <td>3</td>\n",
       "      <td>90</td>\n",
       "      <td>Livros</td>\n",
       "      <td>2</td>\n",
       "    </tr>\n",
       "    <tr>\n",
       "      <th>4</th>\n",
       "      <td>5</td>\n",
       "      <td>2800</td>\n",
       "      <td>12</td>\n",
       "      <td>20</td>\n",
       "      <td>Eletrônicos</td>\n",
       "      <td>0</td>\n",
       "    </tr>\n",
       "    <tr>\n",
       "      <th>5</th>\n",
       "      <td>6</td>\n",
       "      <td>100</td>\n",
       "      <td>1</td>\n",
       "      <td>200</td>\n",
       "      <td>Cosméticos</td>\n",
       "      <td>2</td>\n",
       "    </tr>\n",
       "    <tr>\n",
       "      <th>6</th>\n",
       "      <td>7</td>\n",
       "      <td>1800</td>\n",
       "      <td>9</td>\n",
       "      <td>45</td>\n",
       "      <td>Casa e Decoração</td>\n",
       "      <td>0</td>\n",
       "    </tr>\n",
       "    <tr>\n",
       "      <th>7</th>\n",
       "      <td>8</td>\n",
       "      <td>600</td>\n",
       "      <td>4</td>\n",
       "      <td>70</td>\n",
       "      <td>Livros</td>\n",
       "      <td>2</td>\n",
       "    </tr>\n",
       "    <tr>\n",
       "      <th>8</th>\n",
       "      <td>9</td>\n",
       "      <td>3100</td>\n",
       "      <td>18</td>\n",
       "      <td>5</td>\n",
       "      <td>Eletrônicos</td>\n",
       "      <td>0</td>\n",
       "    </tr>\n",
       "    <tr>\n",
       "      <th>9</th>\n",
       "      <td>10</td>\n",
       "      <td>200</td>\n",
       "      <td>2</td>\n",
       "      <td>180</td>\n",
       "      <td>Roupas</td>\n",
       "      <td>2</td>\n",
       "    </tr>\n",
       "    <tr>\n",
       "      <th>10</th>\n",
       "      <td>11</td>\n",
       "      <td>2500</td>\n",
       "      <td>13</td>\n",
       "      <td>25</td>\n",
       "      <td>Eletrônicos</td>\n",
       "      <td>0</td>\n",
       "    </tr>\n",
       "    <tr>\n",
       "      <th>11</th>\n",
       "      <td>12</td>\n",
       "      <td>400</td>\n",
       "      <td>3</td>\n",
       "      <td>95</td>\n",
       "      <td>Livros</td>\n",
       "      <td>2</td>\n",
       "    </tr>\n",
       "    <tr>\n",
       "      <th>12</th>\n",
       "      <td>13</td>\n",
       "      <td>1900</td>\n",
       "      <td>10</td>\n",
       "      <td>35</td>\n",
       "      <td>Casa e Decoração</td>\n",
       "      <td>0</td>\n",
       "    </tr>\n",
       "    <tr>\n",
       "      <th>13</th>\n",
       "      <td>14</td>\n",
       "      <td>800</td>\n",
       "      <td>5</td>\n",
       "      <td>85</td>\n",
       "      <td>Roupas</td>\n",
       "      <td>2</td>\n",
       "    </tr>\n",
       "    <tr>\n",
       "      <th>14</th>\n",
       "      <td>15</td>\n",
       "      <td>1200</td>\n",
       "      <td>7</td>\n",
       "      <td>40</td>\n",
       "      <td>Cosméticos</td>\n",
       "      <td>1</td>\n",
       "    </tr>\n",
       "    <tr>\n",
       "      <th>15</th>\n",
       "      <td>16</td>\n",
       "      <td>150</td>\n",
       "      <td>1</td>\n",
       "      <td>190</td>\n",
       "      <td>Cosméticos</td>\n",
       "      <td>2</td>\n",
       "    </tr>\n",
       "    <tr>\n",
       "      <th>16</th>\n",
       "      <td>17</td>\n",
       "      <td>2300</td>\n",
       "      <td>14</td>\n",
       "      <td>15</td>\n",
       "      <td>Eletrônicos</td>\n",
       "      <td>0</td>\n",
       "    </tr>\n",
       "    <tr>\n",
       "      <th>17</th>\n",
       "      <td>18</td>\n",
       "      <td>350</td>\n",
       "      <td>2</td>\n",
       "      <td>160</td>\n",
       "      <td>Livros</td>\n",
       "      <td>2</td>\n",
       "    </tr>\n",
       "    <tr>\n",
       "      <th>18</th>\n",
       "      <td>19</td>\n",
       "      <td>2700</td>\n",
       "      <td>11</td>\n",
       "      <td>18</td>\n",
       "      <td>Eletrônicos</td>\n",
       "      <td>0</td>\n",
       "    </tr>\n",
       "    <tr>\n",
       "      <th>19</th>\n",
       "      <td>20</td>\n",
       "      <td>900</td>\n",
       "      <td>6</td>\n",
       "      <td>75</td>\n",
       "      <td>Roupas</td>\n",
       "      <td>2</td>\n",
       "    </tr>\n",
       "  </tbody>\n",
       "</table>\n",
       "</div>"
      ],
      "text/plain": [
       "    customer_id  valor_total_compras  frequencia_compras  \\\n",
       "0             1                 1500                  10   \n",
       "1             2                  300                   2   \n",
       "2             3                 2200                  15   \n",
       "3             4                  500                   3   \n",
       "4             5                 2800                  12   \n",
       "5             6                  100                   1   \n",
       "6             7                 1800                   9   \n",
       "7             8                  600                   4   \n",
       "8             9                 3100                  18   \n",
       "9            10                  200                   2   \n",
       "10           11                 2500                  13   \n",
       "11           12                  400                   3   \n",
       "12           13                 1900                  10   \n",
       "13           14                  800                   5   \n",
       "14           15                 1200                   7   \n",
       "15           16                  150                   1   \n",
       "16           17                 2300                  14   \n",
       "17           18                  350                   2   \n",
       "18           19                 2700                  11   \n",
       "19           20                  900                   6   \n",
       "\n",
       "    recencia_ultima_compra categoria_produto_preferida  cluster_kmeans  \n",
       "0                       30                 Eletrônicos               0  \n",
       "1                      150                      Roupas               2  \n",
       "2                       10            Casa e Decoração               0  \n",
       "3                       90                      Livros               2  \n",
       "4                       20                 Eletrônicos               0  \n",
       "5                      200                  Cosméticos               2  \n",
       "6                       45            Casa e Decoração               0  \n",
       "7                       70                      Livros               2  \n",
       "8                        5                 Eletrônicos               0  \n",
       "9                      180                      Roupas               2  \n",
       "10                      25                 Eletrônicos               0  \n",
       "11                      95                      Livros               2  \n",
       "12                      35            Casa e Decoração               0  \n",
       "13                      85                      Roupas               2  \n",
       "14                      40                  Cosméticos               1  \n",
       "15                     190                  Cosméticos               2  \n",
       "16                      15                 Eletrônicos               0  \n",
       "17                     160                      Livros               2  \n",
       "18                      18                 Eletrônicos               0  \n",
       "19                      75                      Roupas               2  "
      ]
     },
     "execution_count": 25,
     "metadata": {},
     "output_type": "execute_result"
    }
   ],
   "source": [
    "df"
   ]
  },
  {
   "cell_type": "code",
   "execution_count": 26,
   "metadata": {},
   "outputs": [
    {
     "name": "stderr",
     "output_type": "stream",
     "text": [
      "2025-03-21 01:15:20.460 Thread 'MainThread': missing ScriptRunContext! This warning can be ignored when running in bare mode.\n",
      "2025-03-21 01:15:20.461 Thread 'MainThread': missing ScriptRunContext! This warning can be ignored when running in bare mode.\n",
      "2025-03-21 01:15:20.462 Thread 'MainThread': missing ScriptRunContext! This warning can be ignored when running in bare mode.\n",
      "2025-03-21 01:15:20.462 Thread 'MainThread': missing ScriptRunContext! This warning can be ignored when running in bare mode.\n",
      "2025-03-21 01:15:20.464 Thread 'MainThread': missing ScriptRunContext! This warning can be ignored when running in bare mode.\n",
      "2025-03-21 01:15:20.465 Thread 'MainThread': missing ScriptRunContext! This warning can be ignored when running in bare mode.\n",
      "2025-03-21 01:15:20.466 Thread 'MainThread': missing ScriptRunContext! This warning can be ignored when running in bare mode.\n",
      "2025-03-21 01:15:20.468 Thread 'MainThread': missing ScriptRunContext! This warning can be ignored when running in bare mode.\n",
      "2025-03-21 01:15:20.468 Thread 'MainThread': missing ScriptRunContext! This warning can be ignored when running in bare mode.\n",
      "2025-03-21 01:15:20.469 Thread 'MainThread': missing ScriptRunContext! This warning can be ignored when running in bare mode.\n",
      "2025-03-21 01:15:20.471 Thread 'MainThread': missing ScriptRunContext! This warning can be ignored when running in bare mode.\n",
      "2025-03-21 01:15:20.472 Thread 'MainThread': missing ScriptRunContext! This warning can be ignored when running in bare mode.\n"
     ]
    }
   ],
   "source": [
    "#Sidebar com filtros\n",
    "st.sidebar.header(\"Filtros\")\n",
    "categoria = st.sidebar.multiselect(\n",
    "  \"Categoria de Produto Preferida\",\n",
    "  options=df[\"categoria_produto_preferida\"].unique(),\n",
    "  default=df[\"categoria_produto_preferida\"].unique()\n",
    ")\n",
    "\n",
    "valor_min, valor_max = st.sidebar.slider(\n",
    "  \"Faixa de Valor Total de Compras\",\n",
    "  float(df[\"valor_total_compras\"].min()),\n",
    "  float(df[\"valor_total_compras\"].max()),\n",
    "  (float(df[\"valor_total_compras\"].min()), float(df[\"valor_total_compras\"].max())),\n",
    ")"
   ]
  },
  {
   "cell_type": "code",
   "execution_count": 27,
   "metadata": {},
   "outputs": [],
   "source": [
    "# Aplicando filtros\n",
    "df_filtrado = df[\n",
    "  (df[\"categoria_produto_preferida\"].isin(categoria)) &\n",
    "  (df[\"valor_total_compras\"].between(valor_min, valor_max))\n",
    "]"
   ]
  },
  {
   "cell_type": "code",
   "execution_count": 28,
   "metadata": {},
   "outputs": [
    {
     "name": "stderr",
     "output_type": "stream",
     "text": [
      "2025-03-21 01:15:20.509 Thread 'MainThread': missing ScriptRunContext! This warning can be ignored when running in bare mode.\n",
      "2025-03-21 01:15:20.511 Thread 'MainThread': missing ScriptRunContext! This warning can be ignored when running in bare mode.\n",
      "2025-03-21 01:15:20.512 Thread 'MainThread': missing ScriptRunContext! This warning can be ignored when running in bare mode.\n",
      "2025-03-21 01:15:20.513 Thread 'MainThread': missing ScriptRunContext! This warning can be ignored when running in bare mode.\n"
     ]
    },
    {
     "data": {
      "text/plain": [
       "DeltaGenerator()"
      ]
     },
     "execution_count": 28,
     "metadata": {},
     "output_type": "execute_result"
    }
   ],
   "source": [
    "# Métricas\n",
    "st.subheader(\"Resumo de Clientes Filtrados\")\n",
    "st.metric(\"Total de Clientes\", len(df_filtrado))"
   ]
  },
  {
   "cell_type": "code",
   "execution_count": 29,
   "metadata": {},
   "outputs": [
    {
     "name": "stderr",
     "output_type": "stream",
     "text": [
      "2025-03-21 01:15:20.541 Thread 'MainThread': missing ScriptRunContext! This warning can be ignored when running in bare mode.\n",
      "2025-03-21 01:15:20.542 Thread 'MainThread': missing ScriptRunContext! This warning can be ignored when running in bare mode.\n",
      "2025-03-21 01:15:20.580 Thread 'MainThread': missing ScriptRunContext! This warning can be ignored when running in bare mode.\n",
      "2025-03-21 01:15:20.696 Thread 'MainThread': missing ScriptRunContext! This warning can be ignored when running in bare mode.\n",
      "2025-03-21 01:15:20.697 Thread 'MainThread': missing ScriptRunContext! This warning can be ignored when running in bare mode.\n"
     ]
    },
    {
     "data": {
      "text/plain": [
       "DeltaGenerator()"
      ]
     },
     "execution_count": 29,
     "metadata": {},
     "output_type": "execute_result"
    }
   ],
   "source": [
    "# Gráfico de Dispersão\n",
    "st.subheader(\"Visualização dos Clusters\")\n",
    "fig, ax = plt.subplots()\n",
    "sns.scatterplot(\n",
    "  x=\"valor_total_compras\",\n",
    "  y=\"frequencia_compras\",\n",
    "  hue=\"cluster_kmeans\",\n",
    "  data=df_filtrado,\n",
    "  palette=\"viridis\",\n",
    "  ax=ax\n",
    ")\n",
    "st.pyplot(fig)"
   ]
  },
  {
   "cell_type": "code",
   "execution_count": 30,
   "metadata": {},
   "outputs": [
    {
     "name": "stderr",
     "output_type": "stream",
     "text": [
      "2025-03-21 01:15:20.720 Thread 'MainThread': missing ScriptRunContext! This warning can be ignored when running in bare mode.\n",
      "2025-03-21 01:15:20.721 Thread 'MainThread': missing ScriptRunContext! This warning can be ignored when running in bare mode.\n",
      "2025-03-21 01:15:20.724 Thread 'MainThread': missing ScriptRunContext! This warning can be ignored when running in bare mode.\n",
      "2025-03-21 01:15:20.733 Thread 'MainThread': missing ScriptRunContext! This warning can be ignored when running in bare mode.\n",
      "2025-03-21 01:15:20.734 Thread 'MainThread': missing ScriptRunContext! This warning can be ignored when running in bare mode.\n"
     ]
    },
    {
     "data": {
      "text/plain": [
       "DeltaGenerator()"
      ]
     },
     "execution_count": 30,
     "metadata": {},
     "output_type": "execute_result"
    }
   ],
   "source": [
    "# Perfil dos cluster\n",
    "st.subheader(\"Perfil Médio dos clusters\")\n",
    "perfil = df_filtrado.groupby(\"cluster_kmeans\")[['valor_total_compras', \"frequencia_compras\", \"recencia_ultima_compra\"]].mean()\n",
    "st.dataframe(perfil.style.highlight_max(axis=0))"
   ]
  },
  {
   "cell_type": "code",
   "execution_count": 31,
   "metadata": {},
   "outputs": [
    {
     "name": "stderr",
     "output_type": "stream",
     "text": [
      "2025-03-21 01:15:20.745 Thread 'MainThread': missing ScriptRunContext! This warning can be ignored when running in bare mode.\n",
      "2025-03-21 01:15:20.746 Thread 'MainThread': missing ScriptRunContext! This warning can be ignored when running in bare mode.\n"
     ]
    },
    {
     "data": {
      "text/plain": [
       "DeltaGenerator()"
      ]
     },
     "execution_count": 31,
     "metadata": {},
     "output_type": "execute_result"
    }
   ],
   "source": [
    "# Interpretação\n",
    "st.markdown(\"\"\"\n",
    "  - Cluster 0: [Ex: Clientes de Alto Valor]\n",
    "  - Cluster 1: [Ex: Clientes Regulares]\n",
    "  - Cluster 2: [Ex: Clientes Inativos]\n",
    "\"\"\")"
   ]
  }
 ],
 "metadata": {
  "kernelspec": {
   "display_name": "Python 3",
   "language": "python",
   "name": "python3"
  },
  "language_info": {
   "codemirror_mode": {
    "name": "ipython",
    "version": 3
   },
   "file_extension": ".py",
   "mimetype": "text/x-python",
   "name": "python",
   "nbconvert_exporter": "python",
   "pygments_lexer": "ipython3",
   "version": "3.10.0"
  }
 },
 "nbformat": 4,
 "nbformat_minor": 2
}
