{
 "cells": [
  {
   "cell_type": "code",
   "execution_count": 4,
   "metadata": {},
   "outputs": [
    {
     "name": "stdout",
     "output_type": "stream",
     "text": [
      "{'prediction': 2}\n"
     ]
    }
   ],
   "source": [
    "import requests\n",
    "\n",
    "url = \"http://127.0.0.1:8000/predict\"\n",
    "#[\"sepal length\", \"sepal width\", \"petal length\", \"petal width\"]\n",
    "#[5.1 cm, 3.5 cm, 1.4 cm, 0.2 cm]\n",
    "#Classe 0\n",
    "#data = {\"features\": [5.1,3.5,1.4,0.2]}\n",
    "#Classe 1\n",
    "#data = {\"features\": [6.0, 2.2, 4.0, 1.0]}\n",
    "#Classe 2\n",
    "data = {\"features\": [6.9, 3.1, 5.4, 2.1]}\n",
    "res = requests.post(url,json=data)\n",
    "print(res.json())\n",
    "\n",
    "# Respostas\n",
    "# 0\tSetosa\n",
    "# 1\tVersicolor\n",
    "# 2\tVirginica"
   ]
  }
 ],
 "metadata": {
  "kernelspec": {
   "display_name": "Python 3",
   "language": "python",
   "name": "python3"
  },
  "language_info": {
   "codemirror_mode": {
    "name": "ipython",
    "version": 3
   },
   "file_extension": ".py",
   "mimetype": "text/x-python",
   "name": "python",
   "nbconvert_exporter": "python",
   "pygments_lexer": "ipython3",
   "version": "3.10.0"
  }
 },
 "nbformat": 4,
 "nbformat_minor": 2
}
