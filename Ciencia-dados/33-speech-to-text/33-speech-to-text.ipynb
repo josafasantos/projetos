{
 "cells": [
  {
   "cell_type": "markdown",
   "metadata": {},
   "source": [
    "# Speech to Text"
   ]
  },
  {
   "cell_type": "code",
   "execution_count": 15,
   "metadata": {},
   "outputs": [
    {
     "name": "stdout",
     "output_type": "stream",
     "text": [
      "Requirement already satisfied: SpeechRecognition in c:\\users\\josaf\\appdata\\local\\programs\\python\\python310\\lib\\site-packages (3.14.2)Note: you may need to restart the kernel to use updated packages.\n",
      "\n",
      "Requirement already satisfied: typing-extensions in c:\\users\\josaf\\appdata\\roaming\\python\\python310\\site-packages (from SpeechRecognition) (4.12.2)\n"
     ]
    },
    {
     "name": "stderr",
     "output_type": "stream",
     "text": [
      "WARNING: Ignoring invalid distribution -oviepy (c:\\users\\josaf\\appdata\\local\\programs\\python\\python310\\lib\\site-packages)\n",
      "WARNING: Ignoring invalid distribution -oviepy (c:\\users\\josaf\\appdata\\local\\programs\\python\\python310\\lib\\site-packages)\n",
      "WARNING: Ignoring invalid distribution -oviepy (c:\\users\\josaf\\appdata\\local\\programs\\python\\python310\\lib\\site-packages)\n",
      "WARNING: Ignoring invalid distribution -oviepy (c:\\users\\josaf\\appdata\\local\\programs\\python\\python310\\lib\\site-packages)\n",
      "WARNING: Ignoring invalid distribution -oviepy (c:\\users\\josaf\\appdata\\local\\programs\\python\\python310\\lib\\site-packages)\n",
      "WARNING: Ignoring invalid distribution -oviepy (c:\\users\\josaf\\appdata\\local\\programs\\python\\python310\\lib\\site-packages)\n",
      "WARNING: You are using pip version 21.2.3; however, version 25.0.1 is available.\n",
      "You should consider upgrading via the 'c:\\Users\\josaf\\AppData\\Local\\Programs\\Python\\Python310\\python.exe -m pip install --upgrade pip' command.\n"
     ]
    }
   ],
   "source": [
    "%pip install SpeechRecognition"
   ]
  },
  {
   "cell_type": "code",
   "execution_count": 16,
   "metadata": {},
   "outputs": [],
   "source": [
    "# Importando bibliotecas\n",
    "import speech_recognition as sr\n",
    "from collections import Counter\n",
    "import nltk\n",
    "import re"
   ]
  },
  {
   "cell_type": "code",
   "execution_count": 17,
   "metadata": {},
   "outputs": [],
   "source": [
    "# Inicializa reconhecedor\n",
    "r = sr.Recognizer()"
   ]
  },
  {
   "cell_type": "code",
   "execution_count": 18,
   "metadata": {},
   "outputs": [],
   "source": [
    "# Carrega audio\n",
    "with sr.AudioFile('gravacao.wav') as source:\n",
    "  audio = r.record(source)"
   ]
  },
  {
   "cell_type": "code",
   "execution_count": 19,
   "metadata": {},
   "outputs": [
    {
     "name": "stdout",
     "output_type": "stream",
     "text": [
      "Transcrição:\n",
      " Esse é um teste de gravação para o serviço de fala para texto em machine learning com python\n"
     ]
    }
   ],
   "source": [
    "#Transcrição usando Google Speech Recognition\n",
    "try:\n",
    "  texto = r.recognize_google(audio, language='pt-BR')\n",
    "  print('Transcrição:\\n', texto)\n",
    "except sr.UnknownValueError:\n",
    "  print(\"Não foi possível entender o áudio.\")\n",
    "except sr.RequestError:\n",
    "  print('Erro ao se conectar ao servidor de reconhecimento')"
   ]
  },
  {
   "cell_type": "code",
   "execution_count": 20,
   "metadata": {},
   "outputs": [],
   "source": [
    "# Limpeza básica do texto\n",
    "palavras = re.findall(r'\\b\\w+\\b', texto.lower())"
   ]
  },
  {
   "cell_type": "code",
   "execution_count": 21,
   "metadata": {},
   "outputs": [
    {
     "name": "stderr",
     "output_type": "stream",
     "text": [
      "[nltk_data] Downloading package stopwords to\n",
      "[nltk_data]     C:\\Users\\josaf\\AppData\\Roaming\\nltk_data...\n",
      "[nltk_data]   Package stopwords is already up-to-date!\n"
     ]
    }
   ],
   "source": [
    "# Remover stopwords\n",
    "nltk.download('stopwords')\n",
    "stopwords = set(nltk.corpus.stopwords.words('portuguese'))\n",
    "palavras_filtradas = [p for p in palavras if p not in stopwords]"
   ]
  },
  {
   "cell_type": "code",
   "execution_count": 23,
   "metadata": {},
   "outputs": [],
   "source": [
    "# Contagem de palavras\n",
    "contagem = Counter(palavras_filtradas)"
   ]
  },
  {
   "cell_type": "code",
   "execution_count": 24,
   "metadata": {},
   "outputs": [
    {
     "name": "stdout",
     "output_type": "stream",
     "text": [
      "Palavras mais frequentes: \n",
      "teste: 1\n",
      "gravação: 1\n",
      "serviço: 1\n",
      "fala: 1\n",
      "texto: 1\n",
      "machine: 1\n",
      "learning: 1\n",
      "python: 1\n"
     ]
    }
   ],
   "source": [
    "print(\"Palavras mais frequentes: \")\n",
    "for palavra, freq in contagem.most_common(10):\n",
    "  print(f'{palavra}: {freq}')"
   ]
  }
 ],
 "metadata": {
  "kernelspec": {
   "display_name": "Python 3",
   "language": "python",
   "name": "python3"
  },
  "language_info": {
   "codemirror_mode": {
    "name": "ipython",
    "version": 3
   },
   "file_extension": ".py",
   "mimetype": "text/x-python",
   "name": "python",
   "nbconvert_exporter": "python",
   "pygments_lexer": "ipython3",
   "version": "3.10.0"
  }
 },
 "nbformat": 4,
 "nbformat_minor": 2
}
