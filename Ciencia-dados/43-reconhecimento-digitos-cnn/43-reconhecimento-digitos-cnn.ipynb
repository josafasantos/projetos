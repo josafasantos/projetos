{
 "cells": [
  {
   "cell_type": "markdown",
   "metadata": {},
   "source": [
    "# Reconhecimento de dígitos com CNN (Redes Neurais Convolucionais)"
   ]
  },
  {
   "cell_type": "code",
   "execution_count": 37,
   "metadata": {},
   "outputs": [],
   "source": [
    "#%pip install tensorflow"
   ]
  },
  {
   "cell_type": "code",
   "execution_count": 38,
   "metadata": {},
   "outputs": [],
   "source": [
    "# Bibliotecas\n",
    "import numpy as np\n",
    "import matplotlib.pyplot as plt\n",
    "from tensorflow.keras.datasets import mnist\n",
    "from tensorflow.keras.models import Sequential, Model\n",
    "from tensorflow.keras.layers import Input, Conv2D, MaxPooling2D, Flatten, Dense, Dropout\n",
    "from tensorflow.keras.utils import to_categorical\n",
    "from tensorflow.keras.callbacks import EarlyStopping"
   ]
  },
  {
   "cell_type": "code",
   "execution_count": 39,
   "metadata": {},
   "outputs": [],
   "source": [
    "# Carregando e pré-processamento dos dados\n",
    "(X_train, y_train), (X_test, y_test) = mnist.load_data()\n",
    "X_train = X_train.reshape((X_train.shape[0], 28, 28, 1))/255.0\n",
    "X_test = X_test.reshape((X_test.shape[0], 28, 28, 1)) / 255.0\n",
    "y_train_cat = to_categorical(y_train)\n",
    "y_test_cat = to_categorical(y_test)"
   ]
  },
  {
   "cell_type": "code",
   "execution_count": 40,
   "metadata": {},
   "outputs": [],
   "source": [
    "# 1. Entrada explícita\n",
    "input_layer = Input(shape=(28, 28, 1), name='entrada')\n",
    "\n",
    "# 2. Camadas convolucionais\n",
    "x = Conv2D(32, (3, 3), activation='relu', name='conv1')(input_layer)\n",
    "x = MaxPooling2D((2, 2), name='pool1')(x)\n",
    "x = Conv2D(64, (3, 3), activation='relu', name='conv2')(x)\n",
    "x = MaxPooling2D((2, 2), name='pool2')(x)\n",
    "\n",
    "# 3. Classificação\n",
    "x = Flatten(name='flatten')(x)\n",
    "x = Dense(64, activation='relu', name='dense1')(x)\n",
    "output_layer = Dense(10, activation='softmax', name='saida')(x)\n",
    "\n",
    "# 4. Modelo final\n",
    "model = Model(inputs=input_layer, outputs=output_layer)\n",
    "\n",
    "# 5. Compilação\n",
    "model.compile(optimizer='adam', loss='categorical_crossentropy', metrics=['accuracy'])"
   ]
  },
  {
   "cell_type": "code",
   "execution_count": 41,
   "metadata": {},
   "outputs": [
    {
     "name": "stdout",
     "output_type": "stream",
     "text": [
      "Epoch 1/5\n",
      "\u001b[1m375/375\u001b[0m \u001b[32m━━━━━━━━━━━━━━━━━━━━\u001b[0m\u001b[37m\u001b[0m \u001b[1m9s\u001b[0m 22ms/step - accuracy: 0.8267 - loss: 0.6100 - val_accuracy: 0.9770 - val_loss: 0.0784\n",
      "Epoch 2/5\n",
      "\u001b[1m375/375\u001b[0m \u001b[32m━━━━━━━━━━━━━━━━━━━━\u001b[0m\u001b[37m\u001b[0m \u001b[1m8s\u001b[0m 21ms/step - accuracy: 0.9787 - loss: 0.0705 - val_accuracy: 0.9818 - val_loss: 0.0579\n",
      "Epoch 3/5\n",
      "\u001b[1m375/375\u001b[0m \u001b[32m━━━━━━━━━━━━━━━━━━━━\u001b[0m\u001b[37m\u001b[0m \u001b[1m8s\u001b[0m 22ms/step - accuracy: 0.9845 - loss: 0.0495 - val_accuracy: 0.9827 - val_loss: 0.0589\n",
      "Epoch 4/5\n",
      "\u001b[1m375/375\u001b[0m \u001b[32m━━━━━━━━━━━━━━━━━━━━\u001b[0m\u001b[37m\u001b[0m \u001b[1m8s\u001b[0m 22ms/step - accuracy: 0.9896 - loss: 0.0352 - val_accuracy: 0.9873 - val_loss: 0.0422\n",
      "Epoch 5/5\n",
      "\u001b[1m375/375\u001b[0m \u001b[32m━━━━━━━━━━━━━━━━━━━━\u001b[0m\u001b[37m\u001b[0m \u001b[1m8s\u001b[0m 22ms/step - accuracy: 0.9909 - loss: 0.0297 - val_accuracy: 0.9868 - val_loss: 0.0438\n"
     ]
    }
   ],
   "source": [
    "# Treinamento\n",
    "history = model.fit(\n",
    "  X_train, \n",
    "  y_train_cat, \n",
    "  epochs=5, \n",
    "  validation_split=0.2, \n",
    "  batch_size=128, \n",
    "  callbacks=[EarlyStopping(patience=3, \n",
    "                           restore_best_weights=True)])"
   ]
  },
  {
   "cell_type": "code",
   "execution_count": 42,
   "metadata": {},
   "outputs": [
    {
     "name": "stdout",
     "output_type": "stream",
     "text": [
      "\u001b[1m313/313\u001b[0m \u001b[32m━━━━━━━━━━━━━━━━━━━━\u001b[0m\u001b[37m\u001b[0m \u001b[1m1s\u001b[0m 3ms/step - accuracy: 0.9857 - loss: 0.0443\n",
      "Acurácia: 0.9886\n"
     ]
    }
   ],
   "source": [
    "# Avaliação\n",
    "loss, acc = model.evaluate(X_test, y_test_cat)\n",
    "print(f'Acurácia: {acc:.4f}')"
   ]
  },
  {
   "cell_type": "code",
   "execution_count": 45,
   "metadata": {},
   "outputs": [
    {
     "name": "stdout",
     "output_type": "stream",
     "text": [
      "\u001b[1m1/1\u001b[0m \u001b[32m━━━━━━━━━━━━━━━━━━━━\u001b[0m\u001b[37m\u001b[0m \u001b[1m0s\u001b[0m 60ms/step\n"
     ]
    },
    {
     "data": {
      "image/png": "[encoded data removed]",
      "text/plain": [
       "<Figure size 1200x400 with 6 Axes>"
      ]
     },
     "metadata": {},
     "output_type": "display_data"
    },
    {
     "data": {
      "image/png": "[encoded data removed]",
      "text/plain": [
       "<Figure size 1200x400 with 6 Axes>"
      ]
     },
     "metadata": {},
     "output_type": "display_data"
    }
   ],
   "source": [
    "#visualização\n",
    "# Garantindo formato da imagem\n",
    "img = X_test[0].reshape(1, 28, 28, 1)\n",
    "\n",
    "# Criar modelo intermediário que retorna as ativações\n",
    "layer_outputs = [layer.output for layer in model.layers if 'conv' in layer.name]\n",
    "activation_model = Model(inputs=model.input, outputs=layer_outputs)\n",
    "\n",
    "# Gerar ativações\n",
    "activations = activation_model.predict(img)\n",
    "\n",
    "# Plotar primeiras ativações\n",
    "for i, activation in enumerate(activations):\n",
    "    plt.figure(figsize=(12, 4))\n",
    "    for j in range(min(activation.shape[-1], 6)):\n",
    "        plt.subplot(1, 6, j + 1)\n",
    "        plt.imshow(activation[0, :, :, j], cmap='viridis')\n",
    "        plt.axis('off')\n",
    "    plt.suptitle(f'Ativações da camada convolucional {i + 1}')\n",
    "    plt.show()"
   ]
  }
 ],
 "metadata": {
  "kernelspec": {
   "display_name": "Python 3",
   "language": "python",
   "name": "python3"
  },
  "language_info": {
   "codemirror_mode": {
    "name": "ipython",
    "version": 3
   },
   "file_extension": ".py",
   "mimetype": "text/x-python",
   "name": "python",
   "nbconvert_exporter": "python",
   "pygments_lexer": "ipython3",
   "version": "3.9.13"
  }
 },
 "nbformat": 4,
 "nbformat_minor": 2
}
