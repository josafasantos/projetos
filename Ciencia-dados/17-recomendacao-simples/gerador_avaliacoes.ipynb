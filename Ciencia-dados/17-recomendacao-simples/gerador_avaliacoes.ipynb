{
 "cells": [
  {
   "cell_type": "code",
   "execution_count": 2,
   "metadata": {},
   "outputs": [
    {
     "name": "stdout",
     "output_type": "stream",
     "text": [
      "Arquivo '../../datasets/ratings.csv' criado com 2000 linhas de avaliações.\n"
     ]
    }
   ],
   "source": [
    "import csv\n",
    "import random\n",
    "\n",
    "def gerar_ratings_csv(nome_arquivo='ratings.csv', num_linhas=300):\n",
    "    \"\"\"\n",
    "    Gera um arquivo CSV com colunas: user_id, item_id, rating\n",
    "    contendo 'num_linhas' avaliações aleatórias.\n",
    "    \"\"\"\n",
    "    # Defina faixas para valores aleatórios:\n",
    "    # Número de usuários (ex: de 1 até 50)\n",
    "    # Número de itens (ex: de 1 até 100)\n",
    "    # Rating de 1 até 5\n",
    "    faixa_usuarios = (1, 50)\n",
    "    faixa_itens = (1, 100)\n",
    "    faixa_rating = (1, 5)\n",
    "\n",
    "    with open(nome_arquivo, mode='w', newline='', encoding='utf-8') as f:\n",
    "        writer = csv.writer(f)\n",
    "        # Escreve o cabeçalho do CSV\n",
    "        writer.writerow(['user_id', 'item_id', 'rating'])\n",
    "\n",
    "        for _ in range(num_linhas):\n",
    "            user_id = random.randint(faixa_usuarios[0], faixa_usuarios[1])\n",
    "            item_id = random.randint(faixa_itens[0], faixa_itens[1])\n",
    "            rating = random.randint(faixa_rating[0], faixa_rating[1])\n",
    "            writer.writerow([user_id, item_id, rating])\n",
    "\n",
    "    print(f\"Arquivo '{nome_arquivo}' criado com {num_linhas} linhas de avaliações.\")\n",
    "\n",
    "# Executa a função para criar o ratings.csv\n",
    "if __name__ == \"__main__\":\n",
    "    gerar_ratings_csv(nome_arquivo='../../datasets/ratings.csv', num_linhas=2000)\n"
   ]
  }
 ],
 "metadata": {
  "kernelspec": {
   "display_name": "Python 3",
   "language": "python",
   "name": "python3"
  },
  "language_info": {
   "codemirror_mode": {
    "name": "ipython",
    "version": 3
   },
   "file_extension": ".py",
   "mimetype": "text/x-python",
   "name": "python",
   "nbconvert_exporter": "python",
   "pygments_lexer": "ipython3",
   "version": "3.10.0"
  }
 },
 "nbformat": 4,
 "nbformat_minor": 2
}
